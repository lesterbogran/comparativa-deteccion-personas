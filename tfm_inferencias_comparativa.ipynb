{
  "nbformat": 4,
  "nbformat_minor": 0,
  "metadata": {
    "colab": {
      "name": "tfm_inferencias_comparativa.ipynb",
      "provenance": [],
      "collapsed_sections": [],
      "machine_shape": "hm",
      "mount_file_id": "1usQdxw75BHWMO99mz9VW6btbDgkKsTI1",
      "authorship_tag": "ABX9TyOXCf7b21lcT0w/X6wnR+HP",
      "include_colab_link": true
    },
    "kernelspec": {
      "name": "python3",
      "display_name": "Python 3"
    },
    "language_info": {
      "name": "python"
    },
    "accelerator": "GPU",
    "widgets": {
      "application/vnd.jupyter.widget-state+json": {
        "ad3b079fad654821aad1725f218a7028": {
          "model_module": "@jupyter-widgets/controls",
          "model_name": "HBoxModel",
          "model_module_version": "1.5.0",
          "state": {
            "_view_name": "HBoxView",
            "_dom_classes": [],
            "_model_name": "HBoxModel",
            "_view_module": "@jupyter-widgets/controls",
            "_model_module_version": "1.5.0",
            "_view_count": null,
            "_view_module_version": "1.5.0",
            "box_style": "",
            "layout": "IPY_MODEL_10373bc1f7214ab29c1e9be0647b0732",
            "_model_module": "@jupyter-widgets/controls",
            "children": [
              "IPY_MODEL_9be1ddb9150b46489f0854843521700d",
              "IPY_MODEL_76bfbdaf7c3b46c48fa6022146faf3cf",
              "IPY_MODEL_1df2f81c4df04611b51a7f990a1ac621"
            ]
          }
        },
        "10373bc1f7214ab29c1e9be0647b0732": {
          "model_module": "@jupyter-widgets/base",
          "model_name": "LayoutModel",
          "model_module_version": "1.2.0",
          "state": {
            "_view_name": "LayoutView",
            "grid_template_rows": null,
            "right": null,
            "justify_content": null,
            "_view_module": "@jupyter-widgets/base",
            "overflow": null,
            "_model_module_version": "1.2.0",
            "_view_count": null,
            "flex_flow": null,
            "width": null,
            "min_width": null,
            "border": null,
            "align_items": null,
            "bottom": null,
            "_model_module": "@jupyter-widgets/base",
            "top": null,
            "grid_column": null,
            "overflow_y": null,
            "overflow_x": null,
            "grid_auto_flow": null,
            "grid_area": null,
            "grid_template_columns": null,
            "flex": null,
            "_model_name": "LayoutModel",
            "justify_items": null,
            "grid_row": null,
            "max_height": null,
            "align_content": null,
            "visibility": null,
            "align_self": null,
            "height": null,
            "min_height": null,
            "padding": null,
            "grid_auto_rows": null,
            "grid_gap": null,
            "max_width": null,
            "order": null,
            "_view_module_version": "1.2.0",
            "grid_template_areas": null,
            "object_position": null,
            "object_fit": null,
            "grid_auto_columns": null,
            "margin": null,
            "display": null,
            "left": null
          }
        },
        "9be1ddb9150b46489f0854843521700d": {
          "model_module": "@jupyter-widgets/controls",
          "model_name": "HTMLModel",
          "model_module_version": "1.5.0",
          "state": {
            "_view_name": "HTMLView",
            "style": "IPY_MODEL_209a8e51e7274257a7cdabdcb692924a",
            "_dom_classes": [],
            "description": "",
            "_model_name": "HTMLModel",
            "placeholder": "​",
            "_view_module": "@jupyter-widgets/controls",
            "_model_module_version": "1.5.0",
            "value": "100%",
            "_view_count": null,
            "_view_module_version": "1.5.0",
            "description_tooltip": null,
            "_model_module": "@jupyter-widgets/controls",
            "layout": "IPY_MODEL_fc75e292468e4afc9a3aa3d3d50d94c9"
          }
        },
        "76bfbdaf7c3b46c48fa6022146faf3cf": {
          "model_module": "@jupyter-widgets/controls",
          "model_name": "FloatProgressModel",
          "model_module_version": "1.5.0",
          "state": {
            "_view_name": "ProgressView",
            "style": "IPY_MODEL_2bfca1584c434b4dbca3cf24e21b408f",
            "_dom_classes": [],
            "description": "",
            "_model_name": "FloatProgressModel",
            "bar_style": "success",
            "max": 14698491,
            "_view_module": "@jupyter-widgets/controls",
            "_model_module_version": "1.5.0",
            "value": 14698491,
            "_view_count": null,
            "_view_module_version": "1.5.0",
            "orientation": "horizontal",
            "min": 0,
            "description_tooltip": null,
            "_model_module": "@jupyter-widgets/controls",
            "layout": "IPY_MODEL_d6a56cba1e7a48f783dd7a0ffdee4317"
          }
        },
        "1df2f81c4df04611b51a7f990a1ac621": {
          "model_module": "@jupyter-widgets/controls",
          "model_name": "HTMLModel",
          "model_module_version": "1.5.0",
          "state": {
            "_view_name": "HTMLView",
            "style": "IPY_MODEL_a7753421c25641848eae9c75b65ea249",
            "_dom_classes": [],
            "description": "",
            "_model_name": "HTMLModel",
            "placeholder": "​",
            "_view_module": "@jupyter-widgets/controls",
            "_model_module_version": "1.5.0",
            "value": " 14.0M/14.0M [00:00&lt;00:00, 38.4MB/s]",
            "_view_count": null,
            "_view_module_version": "1.5.0",
            "description_tooltip": null,
            "_model_module": "@jupyter-widgets/controls",
            "layout": "IPY_MODEL_986a52ab03d84ea5a51aa524d121ef22"
          }
        },
        "209a8e51e7274257a7cdabdcb692924a": {
          "model_module": "@jupyter-widgets/controls",
          "model_name": "DescriptionStyleModel",
          "model_module_version": "1.5.0",
          "state": {
            "_view_name": "StyleView",
            "_model_name": "DescriptionStyleModel",
            "description_width": "",
            "_view_module": "@jupyter-widgets/base",
            "_model_module_version": "1.5.0",
            "_view_count": null,
            "_view_module_version": "1.2.0",
            "_model_module": "@jupyter-widgets/controls"
          }
        },
        "fc75e292468e4afc9a3aa3d3d50d94c9": {
          "model_module": "@jupyter-widgets/base",
          "model_name": "LayoutModel",
          "model_module_version": "1.2.0",
          "state": {
            "_view_name": "LayoutView",
            "grid_template_rows": null,
            "right": null,
            "justify_content": null,
            "_view_module": "@jupyter-widgets/base",
            "overflow": null,
            "_model_module_version": "1.2.0",
            "_view_count": null,
            "flex_flow": null,
            "width": null,
            "min_width": null,
            "border": null,
            "align_items": null,
            "bottom": null,
            "_model_module": "@jupyter-widgets/base",
            "top": null,
            "grid_column": null,
            "overflow_y": null,
            "overflow_x": null,
            "grid_auto_flow": null,
            "grid_area": null,
            "grid_template_columns": null,
            "flex": null,
            "_model_name": "LayoutModel",
            "justify_items": null,
            "grid_row": null,
            "max_height": null,
            "align_content": null,
            "visibility": null,
            "align_self": null,
            "height": null,
            "min_height": null,
            "padding": null,
            "grid_auto_rows": null,
            "grid_gap": null,
            "max_width": null,
            "order": null,
            "_view_module_version": "1.2.0",
            "grid_template_areas": null,
            "object_position": null,
            "object_fit": null,
            "grid_auto_columns": null,
            "margin": null,
            "display": null,
            "left": null
          }
        },
        "2bfca1584c434b4dbca3cf24e21b408f": {
          "model_module": "@jupyter-widgets/controls",
          "model_name": "ProgressStyleModel",
          "model_module_version": "1.5.0",
          "state": {
            "_view_name": "StyleView",
            "_model_name": "ProgressStyleModel",
            "description_width": "",
            "_view_module": "@jupyter-widgets/base",
            "_model_module_version": "1.5.0",
            "_view_count": null,
            "_view_module_version": "1.2.0",
            "bar_color": null,
            "_model_module": "@jupyter-widgets/controls"
          }
        },
        "d6a56cba1e7a48f783dd7a0ffdee4317": {
          "model_module": "@jupyter-widgets/base",
          "model_name": "LayoutModel",
          "model_module_version": "1.2.0",
          "state": {
            "_view_name": "LayoutView",
            "grid_template_rows": null,
            "right": null,
            "justify_content": null,
            "_view_module": "@jupyter-widgets/base",
            "overflow": null,
            "_model_module_version": "1.2.0",
            "_view_count": null,
            "flex_flow": null,
            "width": null,
            "min_width": null,
            "border": null,
            "align_items": null,
            "bottom": null,
            "_model_module": "@jupyter-widgets/base",
            "top": null,
            "grid_column": null,
            "overflow_y": null,
            "overflow_x": null,
            "grid_auto_flow": null,
            "grid_area": null,
            "grid_template_columns": null,
            "flex": null,
            "_model_name": "LayoutModel",
            "justify_items": null,
            "grid_row": null,
            "max_height": null,
            "align_content": null,
            "visibility": null,
            "align_self": null,
            "height": null,
            "min_height": null,
            "padding": null,
            "grid_auto_rows": null,
            "grid_gap": null,
            "max_width": null,
            "order": null,
            "_view_module_version": "1.2.0",
            "grid_template_areas": null,
            "object_position": null,
            "object_fit": null,
            "grid_auto_columns": null,
            "margin": null,
            "display": null,
            "left": null
          }
        },
        "a7753421c25641848eae9c75b65ea249": {
          "model_module": "@jupyter-widgets/controls",
          "model_name": "DescriptionStyleModel",
          "model_module_version": "1.5.0",
          "state": {
            "_view_name": "StyleView",
            "_model_name": "DescriptionStyleModel",
            "description_width": "",
            "_view_module": "@jupyter-widgets/base",
            "_model_module_version": "1.5.0",
            "_view_count": null,
            "_view_module_version": "1.2.0",
            "_model_module": "@jupyter-widgets/controls"
          }
        },
        "986a52ab03d84ea5a51aa524d121ef22": {
          "model_module": "@jupyter-widgets/base",
          "model_name": "LayoutModel",
          "model_module_version": "1.2.0",
          "state": {
            "_view_name": "LayoutView",
            "grid_template_rows": null,
            "right": null,
            "justify_content": null,
            "_view_module": "@jupyter-widgets/base",
            "overflow": null,
            "_model_module_version": "1.2.0",
            "_view_count": null,
            "flex_flow": null,
            "width": null,
            "min_width": null,
            "border": null,
            "align_items": null,
            "bottom": null,
            "_model_module": "@jupyter-widgets/base",
            "top": null,
            "grid_column": null,
            "overflow_y": null,
            "overflow_x": null,
            "grid_auto_flow": null,
            "grid_area": null,
            "grid_template_columns": null,
            "flex": null,
            "_model_name": "LayoutModel",
            "justify_items": null,
            "grid_row": null,
            "max_height": null,
            "align_content": null,
            "visibility": null,
            "align_self": null,
            "height": null,
            "min_height": null,
            "padding": null,
            "grid_auto_rows": null,
            "grid_gap": null,
            "max_width": null,
            "order": null,
            "_view_module_version": "1.2.0",
            "grid_template_areas": null,
            "object_position": null,
            "object_fit": null,
            "grid_auto_columns": null,
            "margin": null,
            "display": null,
            "left": null
          }
        }
      }
    }
  },
  "cells": [
    {
      "cell_type": "markdown",
      "metadata": {
        "id": "view-in-github",
        "colab_type": "text"
      },
      "source": [
        "<a href=\"https://colab.research.google.com/github/lesterbogran/comparativa-deteccion-personas/blob/main/tfm_inferencias_comparativa.ipynb\" target=\"_parent\"><img src=\"https://colab.research.google.com/assets/colab-badge.svg\" alt=\"Open In Colab\"/></a>"
      ]
    },
    {
      "cell_type": "markdown",
      "source": [
        "Descarga y preparacion del dataset"
      ],
      "metadata": {
        "id": "b8_G7VMly78e"
      }
    },
    {
      "cell_type": "code",
      "source": [
        "# descarga del dataset esto puede tomar unos 15-20 minutos \n",
        "!wget  https://data.4tu.nl/ndownloader/files/24070793"
      ],
      "metadata": {
        "id": "bbA3SPcjy7Xa",
        "outputId": "72126ae2-cb2d-405f-cb63-b69e47b5c004",
        "colab": {
          "base_uri": "https://localhost:8080/"
        }
      },
      "execution_count": null,
      "outputs": [
        {
          "output_type": "stream",
          "name": "stdout",
          "text": [
            "--2022-01-31 04:19:55--  https://data.4tu.nl/ndownloader/files/24070793\n",
            "Resolving data.4tu.nl (data.4tu.nl)... 131.180.141.15\n",
            "Connecting to data.4tu.nl (data.4tu.nl)|131.180.141.15|:443... connected.\n",
            "HTTP request sent, awaiting response... 200 OK\n",
            "Length: unspecified [application/zip]\n",
            "Saving to: ‘24070793’\n",
            "\n",
            "24070793                [            <=>     ]   9.98G  7.30MB/s    in 20m 33s \n",
            "\n",
            "2022-01-31 04:40:29 (8.28 MB/s) - ‘24070793’ saved [10713417760]\n",
            "\n"
          ]
        }
      ]
    },
    {
      "cell_type": "code",
      "source": [
        "# descompresion del dataset esto puede tomar unos 4-6 minutos\n",
        "!unzip -qq ./24070793 \n",
        "!ls"
      ],
      "metadata": {
        "colab": {
          "base_uri": "https://localhost:8080/"
        },
        "id": "051_7VLuzKOv",
        "outputId": "17e8ab09-b8f7-47cf-b0f1-228fa468f564"
      },
      "execution_count": null,
      "outputs": [
        {
          "output_type": "stream",
          "name": "stdout",
          "text": [
            "24070793  sample_data  wisenet_dataset\n"
          ]
        }
      ]
    },
    {
      "cell_type": "code",
      "source": [
        "import cv2\n",
        "import os\n",
        "import json\n",
        "import pandas as pd\n",
        "# Para ordenar aleatoriamente los datos\n",
        "import random\n",
        "random.seed(123)\n"
      ],
      "metadata": {
        "id": "DWnOZrc-ziy5"
      },
      "execution_count": null,
      "outputs": []
    },
    {
      "cell_type": "code",
      "source": [
        "sets = 11\n",
        "detection_dir ='wisenet_dataset/manual_annotations/people_detection/set_'\n",
        "video_dir = 'wisenet_dataset/video_sets/set_'\n",
        "image_dataset_dir = 'wisenet_img_dataset'"
      ],
      "metadata": {
        "id": "EsP_Igyjzji6"
      },
      "execution_count": null,
      "outputs": []
    },
    {
      "cell_type": "code",
      "source": [
        "!mkdir wisenet_img_dataset"
      ],
      "metadata": {
        "id": "lcP3ggmmDpjD"
      },
      "execution_count": null,
      "outputs": []
    },
    {
      "cell_type": "code",
      "source": [
        "for i in range(1, sets+1):\n",
        "  files = os.listdir(detection_dir+str(i))\n",
        "  for f in files:\n",
        "    f_json =  detection_dir+str(i)+\"/\"+f\n",
        "    with open(f_json, \"r\") as ans:\n",
        "      an = json.load(ans)\n",
        "      resolution = an[\"resolution\"][0]\n",
        "      #print(f_json, resolution)"
      ],
      "metadata": {
        "id": "B_baM5Ehztba"
      },
      "execution_count": null,
      "outputs": []
    },
    {
      "cell_type": "code",
      "source": [
        "def generate_images(base_dir, tags, video, set_id, video_id):\n",
        "  f_json = open(tags)\n",
        "  annotations = json.load(f_json)\n",
        "  f_json.close()\n",
        "  frames = annotations[\"frames\"]\n",
        "  resolution = annotations[\"resolution\"][0]\n",
        "  vidCap = cv2.VideoCapture(video)  \n",
        "  f = -1\n",
        "  list_frames =[]\n",
        "  #success,image = vidCap.read()\n",
        "  for frame in frames:\n",
        "    fm = int(frame['frameNumber'])\n",
        "\n",
        "    while f < fm: \n",
        "      success,image = vidCap.read()\n",
        "      f +=1\n",
        "    img_name = \"image_video%d_%d_%d.jpg\" %  (set_id, video_id, fm)\n",
        "    cv2.imwrite(\"%s/%s\" % (base_dir, img_name), image)\n",
        "\n",
        "    dict_an = {}\n",
        "    dict_an['image'] =  img_name\n",
        "    dict_an['people'] = [(x['xywh'][0], x['xywh'][1], \n",
        "                          x['xywh'][0] + x['xywh'][2], x['xywh'][1] + x['xywh'][3])    \n",
        "                         for x in frame['detections'] if x['class'] == 'person']\n",
        "    dict_an['total'] = len(dict_an['people'])\n",
        "    dict_an['resolution'] = resolution\n",
        "    list_frames.append(dict_an)\n",
        "\n",
        "  return list_frames"
      ],
      "metadata": {
        "id": "qhlyz4tSzyXr"
      },
      "execution_count": null,
      "outputs": []
    },
    {
      "cell_type": "code",
      "source": [
        "# 12 - 15 minutos\n",
        "list_frames = []\n",
        "for i in range(1, sets+1):\n",
        "  ad = os.listdir(detection_dir+str(i))\n",
        "  vd = os.listdir(video_dir+str(i))\n",
        "  #print(vd)\n",
        "  for j in range(1,len(vd)+1): \n",
        "     a = \"%s%d/video%d_%d.json\" % (detection_dir, i, i, j)\n",
        "     v = \"%s%d/video%d_%d.avi\" % (video_dir, i, i, j)\n",
        "     print(a)\n",
        "     print(v)\n",
        "     frames = generate_images(image_dataset_dir, a, v, i, j)\n",
        "     print(len(frames), \"frames procesados\")\n",
        "     list_frames = list_frames + frames"
      ],
      "metadata": {
        "colab": {
          "base_uri": "https://localhost:8080/"
        },
        "id": "ewP8jR_pzzHU",
        "outputId": "159ad837-4c33-4607-8ac6-a8c34bc29a7f"
      },
      "execution_count": null,
      "outputs": [
        {
          "output_type": "stream",
          "name": "stdout",
          "text": [
            "wisenet_dataset/manual_annotations/people_detection/set_1/video1_1.json\n",
            "wisenet_dataset/video_sets/set_1/video1_1.avi\n",
            "140 frames procesados\n",
            "wisenet_dataset/manual_annotations/people_detection/set_1/video1_2.json\n",
            "wisenet_dataset/video_sets/set_1/video1_2.avi\n",
            "895 frames procesados\n",
            "wisenet_dataset/manual_annotations/people_detection/set_1/video1_3.json\n",
            "wisenet_dataset/video_sets/set_1/video1_3.avi\n",
            "450 frames procesados\n",
            "wisenet_dataset/manual_annotations/people_detection/set_1/video1_4.json\n",
            "wisenet_dataset/video_sets/set_1/video1_4.avi\n",
            "1746 frames procesados\n",
            "wisenet_dataset/manual_annotations/people_detection/set_1/video1_5.json\n",
            "wisenet_dataset/video_sets/set_1/video1_5.avi\n",
            "1749 frames procesados\n",
            "wisenet_dataset/manual_annotations/people_detection/set_2/video2_1.json\n",
            "wisenet_dataset/video_sets/set_2/video2_1.avi\n",
            "415 frames procesados\n",
            "wisenet_dataset/manual_annotations/people_detection/set_2/video2_2.json\n",
            "wisenet_dataset/video_sets/set_2/video2_2.avi\n",
            "1469 frames procesados\n",
            "wisenet_dataset/manual_annotations/people_detection/set_2/video2_3.json\n",
            "wisenet_dataset/video_sets/set_2/video2_3.avi\n",
            "750 frames procesados\n",
            "wisenet_dataset/manual_annotations/people_detection/set_2/video2_4.json\n",
            "wisenet_dataset/video_sets/set_2/video2_4.avi\n",
            "3553 frames procesados\n",
            "wisenet_dataset/manual_annotations/people_detection/set_2/video2_5.json\n",
            "wisenet_dataset/video_sets/set_2/video2_5.avi\n",
            "1453 frames procesados\n",
            "wisenet_dataset/manual_annotations/people_detection/set_3/video3_1.json\n",
            "wisenet_dataset/video_sets/set_3/video3_1.avi\n",
            "569 frames procesados\n",
            "wisenet_dataset/manual_annotations/people_detection/set_3/video3_2.json\n",
            "wisenet_dataset/video_sets/set_3/video3_2.avi\n",
            "1977 frames procesados\n",
            "wisenet_dataset/manual_annotations/people_detection/set_3/video3_3.json\n",
            "wisenet_dataset/video_sets/set_3/video3_3.avi\n",
            "1110 frames procesados\n",
            "wisenet_dataset/manual_annotations/people_detection/set_3/video3_4.json\n",
            "wisenet_dataset/video_sets/set_3/video3_4.avi\n",
            "1403 frames procesados\n",
            "wisenet_dataset/manual_annotations/people_detection/set_3/video3_5.json\n",
            "wisenet_dataset/video_sets/set_3/video3_5.avi\n",
            "1428 frames procesados\n",
            "wisenet_dataset/manual_annotations/people_detection/set_4/video4_1.json\n",
            "wisenet_dataset/video_sets/set_4/video4_1.avi\n",
            "445 frames procesados\n",
            "wisenet_dataset/manual_annotations/people_detection/set_4/video4_2.json\n",
            "wisenet_dataset/video_sets/set_4/video4_2.avi\n",
            "2480 frames procesados\n",
            "wisenet_dataset/manual_annotations/people_detection/set_4/video4_3.json\n",
            "wisenet_dataset/video_sets/set_4/video4_3.avi\n",
            "1890 frames procesados\n",
            "wisenet_dataset/manual_annotations/people_detection/set_4/video4_4.json\n",
            "wisenet_dataset/video_sets/set_4/video4_4.avi\n",
            "7153 frames procesados\n",
            "wisenet_dataset/manual_annotations/people_detection/set_4/video4_5.json\n",
            "wisenet_dataset/video_sets/set_4/video4_5.avi\n",
            "2841 frames procesados\n",
            "wisenet_dataset/manual_annotations/people_detection/set_5/video5_1.json\n",
            "wisenet_dataset/video_sets/set_5/video5_1.avi\n",
            "390 frames procesados\n",
            "wisenet_dataset/manual_annotations/people_detection/set_5/video5_2.json\n",
            "wisenet_dataset/video_sets/set_5/video5_2.avi\n",
            "785 frames procesados\n",
            "wisenet_dataset/manual_annotations/people_detection/set_5/video5_3.json\n",
            "wisenet_dataset/video_sets/set_5/video5_3.avi\n",
            "485 frames procesados\n",
            "wisenet_dataset/manual_annotations/people_detection/set_5/video5_4.json\n",
            "wisenet_dataset/video_sets/set_5/video5_4.avi\n",
            "455 frames procesados\n",
            "wisenet_dataset/manual_annotations/people_detection/set_5/video5_5.json\n",
            "wisenet_dataset/video_sets/set_5/video5_5.avi\n",
            "540 frames procesados\n",
            "wisenet_dataset/manual_annotations/people_detection/set_5/video5_6.json\n",
            "wisenet_dataset/video_sets/set_5/video5_6.avi\n",
            "0 frames procesados\n",
            "wisenet_dataset/manual_annotations/people_detection/set_6/video6_1.json\n",
            "wisenet_dataset/video_sets/set_6/video6_1.avi\n",
            "210 frames procesados\n",
            "wisenet_dataset/manual_annotations/people_detection/set_6/video6_2.json\n",
            "wisenet_dataset/video_sets/set_6/video6_2.avi\n",
            "995 frames procesados\n",
            "wisenet_dataset/manual_annotations/people_detection/set_6/video6_3.json\n",
            "wisenet_dataset/video_sets/set_6/video6_3.avi\n",
            "0 frames procesados\n",
            "wisenet_dataset/manual_annotations/people_detection/set_6/video6_4.json\n",
            "wisenet_dataset/video_sets/set_6/video6_4.avi\n",
            "1000 frames procesados\n",
            "wisenet_dataset/manual_annotations/people_detection/set_6/video6_5.json\n",
            "wisenet_dataset/video_sets/set_6/video6_5.avi\n",
            "1000 frames procesados\n",
            "wisenet_dataset/manual_annotations/people_detection/set_6/video6_6.json\n",
            "wisenet_dataset/video_sets/set_6/video6_6.avi\n",
            "0 frames procesados\n",
            "wisenet_dataset/manual_annotations/people_detection/set_7/video7_1.json\n",
            "wisenet_dataset/video_sets/set_7/video7_1.avi\n",
            "375 frames procesados\n",
            "wisenet_dataset/manual_annotations/people_detection/set_7/video7_2.json\n",
            "wisenet_dataset/video_sets/set_7/video7_2.avi\n",
            "629 frames procesados\n",
            "wisenet_dataset/manual_annotations/people_detection/set_7/video7_3.json\n",
            "wisenet_dataset/video_sets/set_7/video7_3.avi\n",
            "45 frames procesados\n",
            "wisenet_dataset/manual_annotations/people_detection/set_7/video7_4.json\n",
            "wisenet_dataset/video_sets/set_7/video7_4.avi\n",
            "1000 frames procesados\n",
            "wisenet_dataset/manual_annotations/people_detection/set_7/video7_5.json\n",
            "wisenet_dataset/video_sets/set_7/video7_5.avi\n",
            "1000 frames procesados\n",
            "wisenet_dataset/manual_annotations/people_detection/set_7/video7_6.json\n",
            "wisenet_dataset/video_sets/set_7/video7_6.avi\n",
            "0 frames procesados\n",
            "wisenet_dataset/manual_annotations/people_detection/set_8/video8_1.json\n",
            "wisenet_dataset/video_sets/set_8/video8_1.avi\n",
            "75 frames procesados\n",
            "wisenet_dataset/manual_annotations/people_detection/set_8/video8_2.json\n",
            "wisenet_dataset/video_sets/set_8/video8_2.avi\n",
            "1000 frames procesados\n",
            "wisenet_dataset/manual_annotations/people_detection/set_8/video8_3.json\n",
            "wisenet_dataset/video_sets/set_8/video8_3.avi\n",
            "0 frames procesados\n",
            "wisenet_dataset/manual_annotations/people_detection/set_8/video8_4.json\n",
            "wisenet_dataset/video_sets/set_8/video8_4.avi\n",
            "1000 frames procesados\n",
            "wisenet_dataset/manual_annotations/people_detection/set_8/video8_5.json\n",
            "wisenet_dataset/video_sets/set_8/video8_5.avi\n",
            "865 frames procesados\n",
            "wisenet_dataset/manual_annotations/people_detection/set_8/video8_6.json\n",
            "wisenet_dataset/video_sets/set_8/video8_6.avi\n",
            "0 frames procesados\n",
            "wisenet_dataset/manual_annotations/people_detection/set_9/video9_1.json\n",
            "wisenet_dataset/video_sets/set_9/video9_1.avi\n",
            "0 frames procesados\n",
            "wisenet_dataset/manual_annotations/people_detection/set_9/video9_2.json\n",
            "wisenet_dataset/video_sets/set_9/video9_2.avi\n",
            "0 frames procesados\n",
            "wisenet_dataset/manual_annotations/people_detection/set_9/video9_3.json\n",
            "wisenet_dataset/video_sets/set_9/video9_3.avi\n",
            "0 frames procesados\n",
            "wisenet_dataset/manual_annotations/people_detection/set_9/video9_4.json\n",
            "wisenet_dataset/video_sets/set_9/video9_4.avi\n",
            "1000 frames procesados\n",
            "wisenet_dataset/manual_annotations/people_detection/set_9/video9_5.json\n",
            "wisenet_dataset/video_sets/set_9/video9_5.avi\n",
            "1000 frames procesados\n",
            "wisenet_dataset/manual_annotations/people_detection/set_9/video9_6.json\n",
            "wisenet_dataset/video_sets/set_9/video9_6.avi\n",
            "0 frames procesados\n",
            "wisenet_dataset/manual_annotations/people_detection/set_10/video10_1.json\n",
            "wisenet_dataset/video_sets/set_10/video10_1.avi\n",
            "0 frames procesados\n",
            "wisenet_dataset/manual_annotations/people_detection/set_10/video10_2.json\n",
            "wisenet_dataset/video_sets/set_10/video10_2.avi\n",
            "1000 frames procesados\n",
            "wisenet_dataset/manual_annotations/people_detection/set_10/video10_3.json\n",
            "wisenet_dataset/video_sets/set_10/video10_3.avi\n",
            "0 frames procesados\n",
            "wisenet_dataset/manual_annotations/people_detection/set_10/video10_4.json\n",
            "wisenet_dataset/video_sets/set_10/video10_4.avi\n",
            "1000 frames procesados\n",
            "wisenet_dataset/manual_annotations/people_detection/set_10/video10_5.json\n",
            "wisenet_dataset/video_sets/set_10/video10_5.avi\n",
            "1000 frames procesados\n",
            "wisenet_dataset/manual_annotations/people_detection/set_10/video10_6.json\n",
            "wisenet_dataset/video_sets/set_10/video10_6.avi\n",
            "0 frames procesados\n",
            "wisenet_dataset/manual_annotations/people_detection/set_11/video11_1.json\n",
            "wisenet_dataset/video_sets/set_11/video11_1.avi\n",
            "415 frames procesados\n",
            "wisenet_dataset/manual_annotations/people_detection/set_11/video11_2.json\n",
            "wisenet_dataset/video_sets/set_11/video11_2.avi\n",
            "760 frames procesados\n",
            "wisenet_dataset/manual_annotations/people_detection/set_11/video11_3.json\n",
            "wisenet_dataset/video_sets/set_11/video11_3.avi\n",
            "440 frames procesados\n",
            "wisenet_dataset/manual_annotations/people_detection/set_11/video11_4.json\n",
            "wisenet_dataset/video_sets/set_11/video11_4.avi\n",
            "510 frames procesados\n",
            "wisenet_dataset/manual_annotations/people_detection/set_11/video11_5.json\n",
            "wisenet_dataset/video_sets/set_11/video11_5.avi\n",
            "590 frames procesados\n",
            "wisenet_dataset/manual_annotations/people_detection/set_11/video11_6.json\n",
            "wisenet_dataset/video_sets/set_11/video11_6.avi\n",
            "0 frames procesados\n"
          ]
        }
      ]
    },
    {
      "cell_type": "code",
      "metadata": {
        "id": "tjrPBfbNcxil"
      },
      "source": [
        "ground_truth = list_frames\n",
        "random.shuffle(ground_truth)\n",
        "# incluir solo las imagenes de una misma resolucion \n",
        "ground_truth = [gt for gt in ground_truth if gt['resolution'] == {'height': 720.0, 'width': 1280.0}]"
      ],
      "execution_count": null,
      "outputs": []
    },
    {
      "cell_type": "markdown",
      "metadata": {
        "id": "La3u7lA843MV"
      },
      "source": [
        "# Prueba de modelos entrenados entrenados con coco "
      ]
    },
    {
      "cell_type": "code",
      "metadata": {
        "id": "ZvkxKTUQ4jW2"
      },
      "source": [
        "# Necesario para cargar modelos desde TF-Hub module y hacer las inferencias.\n",
        "import tensorflow as tf\n",
        "import tensorflow_hub as hub\n",
        "\n",
        "# Para algunas utilidades que permitan mostrar imagenes con sus detecciones \n",
        "import numpy as np\n",
        "from PIL import Image\n",
        "from PIL import ImageColor\n",
        "from PIL import ImageDraw\n",
        "from PIL import ImageFont\n",
        "from PIL import ImageOps\n",
        "from six import BytesIO\n",
        "\n",
        "# para el manejo de los datos\n",
        "import pandas as pd\n",
        "\n",
        "# para funciones estadisticas \n",
        "from scipy import stats\n",
        "import scipy\n",
        "import matplotlib.pyplot as plt\n",
        "%matplotlib inline\n",
        "#import statsmodels.graphics.gofplots as sm\n",
        "\n",
        "# necesarios para la deteccion con HOG\n",
        "import cv2\n",
        "\n",
        "# Para cargar las anotaciones en formato json \n",
        "import json\n",
        "\n",
        "# Para medir el tiempo de la inferencia \n",
        "import time\n",
        "\n",
        "# para acceder a torch hub y descargar yolov5\n",
        "import torch"
      ],
      "execution_count": null,
      "outputs": []
    },
    {
      "cell_type": "code",
      "metadata": {
        "id": "D0L93mymKYnk"
      },
      "source": [
        "\n",
        "category_index = {\n",
        "    1: {'id': 1, 'name': 'person'}, 2: {'id': 2, 'name': 'bicycle'}, \n",
        "    3: {'id': 3, 'name': 'car'}, 4: {'id': 4, 'name': 'motorcycle'}, \n",
        "    5: {'id': 5, 'name': 'airplane'}, 6: {'id': 6, 'name': 'bus'}, \n",
        "    7: {'id': 7, 'name': 'train'}, 8: {'id': 8, 'name': 'truck'}, \n",
        "    9: {'id': 9, 'name': 'boat'}, 10: {'id': 10, 'name': 'traffic light'}, \n",
        "    11: {'id': 11, 'name': 'fire hydrant'}, 13: {'id': 13, 'name': 'stop sign'}, \n",
        "    14: {'id': 14, 'name': 'parking meter'}, 15: {'id': 15, 'name': 'bench'}, \n",
        "    16: {'id': 16, 'name': 'bird'}, 17: {'id': 17, 'name': 'cat'},\n",
        "    18: {'id': 18, 'name': 'dog'}, 19: {'id': 19, 'name': 'horse'}, \n",
        "    20: {'id': 20, 'name': 'sheep'}, 21: {'id': 21, 'name': 'cow'}, \n",
        "    22: {'id': 22, 'name': 'elephant'}, 23: {'id': 23, 'name': 'bear'}, \n",
        "    24: {'id': 24, 'name': 'zebra'}, 25: {'id': 25, 'name': 'giraffe'}, \n",
        "    27: {'id': 27, 'name': 'backpack'}, 28: {'id': 28, 'name': 'umbrella'}, \n",
        "    31: {'id': 31, 'name': 'handbag'}, 32: {'id': 32, 'name': 'tie'}, \n",
        "    33: {'id': 33, 'name': 'suitcase'}, 34: {'id': 34, 'name': 'frisbee'}, \n",
        "    35: {'id': 35, 'name': 'skis'}, 36: {'id': 36, 'name': 'snowboard'}, \n",
        "    37: {'id': 37, 'name': 'sports ball'}, 38: {'id': 38, 'name': 'kite'}, \n",
        "    39: {'id': 39, 'name': 'baseball bat'}, 40: {'id': 40, 'name': 'baseball glove'}, \n",
        "    41: {'id': 41, 'name': 'skateboard'}, 42: {'id': 42, 'name': 'surfboard'}, \n",
        "    43: {'id': 43, 'name': 'tennis racket'}, 44: {'id': 44, 'name': 'bottle'}, \n",
        "    46: {'id': 46, 'name': 'wine glass'}, 47: {'id': 47, 'name': 'cup'}, \n",
        "    48: {'id': 48, 'name': 'fork'}, 49: {'id': 49, 'name': 'knife'}, \n",
        "    50: {'id': 50, 'name': 'spoon'}, 51: {'id': 51, 'name': 'bowl'},\n",
        "    52: {'id': 52, 'name': 'banana'}, 53: {'id': 53, 'name': 'apple'}, \n",
        "    54: {'id': 54, 'name': 'sandwich'}, 55: {'id': 55, 'name': 'orange'}, \n",
        "    56: {'id': 56, 'name': 'broccoli'}, 57: {'id': 57, 'name': 'carrot'}, \n",
        "    58: {'id': 58, 'name': 'hot dog'}, 59: {'id': 59, 'name': 'pizza'}, \n",
        "    60: {'id': 60, 'name': 'donut'}, 61: {'id': 61, 'name': 'cake'}, \n",
        "    62: {'id': 62, 'name': 'chair'}, 63: {'id': 63, 'name': 'couch'}, \n",
        "    64: {'id': 64, 'name': 'potted plant'}, 65: {'id': 65, 'name': 'bed'}, \n",
        "    67: {'id': 67, 'name': 'dining table'}, 70: {'id': 70, 'name': 'toilet'}, \n",
        "    72: {'id': 72, 'name': 'tv'}, 73: {'id': 73, 'name': 'laptop'}, \n",
        "    74: {'id': 74, 'name': 'mouse'}, 75: {'id': 75, 'name': 'remote'}, \n",
        "    76: {'id': 76, 'name': 'keyboard'}, 77: {'id': 77, 'name': 'cell phone'}, \n",
        "    78: {'id': 78, 'name': 'microwave'}, 79: {'id': 79, 'name': 'oven'}, \n",
        "    80: {'id': 80, 'name': 'toaster'}, 81: {'id': 81, 'name': 'sink'}, \n",
        "    82: {'id': 82, 'name': 'refrigerator'}, \n",
        "    84: {'id': 84, 'name': 'book'}, 85: {'id': 85, 'name': 'clock'}, \n",
        "    86: {'id': 86, 'name': 'vase'}, 87: {'id': 87, 'name': 'scissors'}, \n",
        "    88: {'id': 88, 'name': 'teddy bear'}, 89: {'id': 89, 'name': 'hair drier'}, \n",
        "    90: {'id': 90, 'name': 'toothbrush'}}"
      ],
      "execution_count": null,
      "outputs": []
    },
    {
      "cell_type": "code",
      "metadata": {
        "id": "SgusKjkIOLhl"
      },
      "source": [
        "faster_rcnn_url = \"https://tfhub.dev/tensorflow/faster_rcnn/resnet152_v1_640x640/1\"\n",
        "faster_rcnn = hub.load(faster_rcnn_url)"
      ],
      "execution_count": null,
      "outputs": []
    },
    {
      "cell_type": "code",
      "metadata": {
        "id": "f7XbBQRFOVNE"
      },
      "source": [
        "ssd_url = \"https://tfhub.dev/tensorflow/retinanet/resnet101_v1_fpn_640x640/1\"\n",
        "ssd = hub.load(ssd_url)"
      ],
      "execution_count": null,
      "outputs": []
    },
    {
      "cell_type": "code",
      "metadata": {
        "id": "HYG5yU2o4-nJ"
      },
      "source": [
        "hog = cv2.HOGDescriptor()\n",
        "hog.setSVMDetector(cv2.HOGDescriptor_getDefaultPeopleDetector())"
      ],
      "execution_count": null,
      "outputs": []
    },
    {
      "cell_type": "code",
      "metadata": {
        "colab": {
          "base_uri": "https://localhost:8080/",
          "height": 102,
          "referenced_widgets": [
            "ad3b079fad654821aad1725f218a7028",
            "10373bc1f7214ab29c1e9be0647b0732",
            "9be1ddb9150b46489f0854843521700d",
            "76bfbdaf7c3b46c48fa6022146faf3cf",
            "1df2f81c4df04611b51a7f990a1ac621",
            "209a8e51e7274257a7cdabdcb692924a",
            "fc75e292468e4afc9a3aa3d3d50d94c9",
            "2bfca1584c434b4dbca3cf24e21b408f",
            "d6a56cba1e7a48f783dd7a0ffdee4317",
            "a7753421c25641848eae9c75b65ea249",
            "986a52ab03d84ea5a51aa524d121ef22"
          ]
        },
        "id": "oLxgxTUxOhpp",
        "outputId": "3ef1a50a-4488-44fb-ee86-9f733d1a8e0d"
      },
      "source": [
        "yolo = torch.hub.load('ultralytics/yolov5', 'yolov5s')\n",
        "yolo.classes = [0] # solo nos interesa detectar la clase persona"
      ],
      "execution_count": null,
      "outputs": [
        {
          "output_type": "stream",
          "name": "stderr",
          "text": [
            "Downloading: \"https://github.com/ultralytics/yolov5/archive/master.zip\" to /root/.cache/torch/hub/master.zip\n"
          ]
        },
        {
          "output_type": "stream",
          "name": "stdout",
          "text": [
            "Downloading https://github.com/ultralytics/yolov5/releases/download/v6.0/yolov5s.pt to yolov5s.pt...\n"
          ]
        },
        {
          "output_type": "display_data",
          "data": {
            "application/vnd.jupyter.widget-view+json": {
              "model_id": "ad3b079fad654821aad1725f218a7028",
              "version_minor": 0,
              "version_major": 2
            },
            "text/plain": [
              "  0%|          | 0.00/14.0M [00:00<?, ?B/s]"
            ]
          },
          "metadata": {}
        },
        {
          "output_type": "stream",
          "name": "stdout",
          "text": [
            "\n"
          ]
        }
      ]
    },
    {
      "cell_type": "code",
      "metadata": {
        "id": "JPugPXK064FI"
      },
      "source": [
        "#\n",
        "def display_image(image):\n",
        "  fig = plt.figure(figsize=(20, 15))\n",
        "  plt.grid(False)\n",
        "  plt.imshow(image)\n",
        "\n",
        "def draw_bounding_box_on_image(image,\n",
        "                               ymin,\n",
        "                               xmin,\n",
        "                               ymax,\n",
        "                               xmax,\n",
        "                               color,\n",
        "                               font,\n",
        "                               thickness=4,\n",
        "                               display_str_list=()):\n",
        "  \"\"\"Adds a bounding box to an image.\"\"\"\n",
        "  draw = ImageDraw.Draw(image)\n",
        "  im_width, im_height = image.size\n",
        "  print(im_width, im_height)\n",
        "  (left, right, top, bottom) = (xmin * im_width, xmax * im_width,\n",
        "                                ymin * im_height, ymax * im_height)\n",
        "  draw.line([(left, top), (left, bottom), (right, bottom), (right, top),\n",
        "             (left, top)],\n",
        "            width=thickness,\n",
        "            fill=color)\n",
        "  # If the total height of the display strings added to the top of the bounding\n",
        "  # box exceeds the top of the image, stack the strings below the bounding box\n",
        "  # instead of above.\n",
        "  display_str_heights = [font.getsize(ds)[1] for ds in display_str_list]\n",
        "  # Each display_str has a top and bottom margin of 0.05x.\n",
        "  total_display_str_height = (1 + 2 * 0.05) * sum(display_str_heights)\n",
        "\n",
        "  if top > total_display_str_height:\n",
        "    text_bottom = top\n",
        "  else:\n",
        "    text_bottom = top + total_display_str_height\n",
        "  # Reverse list and print from bottom to top.\n",
        "  for display_str in display_str_list[::-1]:\n",
        "    text_width, text_height = font.getsize(display_str)\n",
        "    margin = np.ceil(0.05 * text_height)\n",
        "    draw.rectangle([(left, text_bottom - text_height - 2 * margin),\n",
        "                    (left + text_width, text_bottom)],\n",
        "                   fill=color)\n",
        "    draw.text((left + margin, text_bottom - text_height - margin),\n",
        "              display_str,\n",
        "              fill=\"black\",\n",
        "              font=font)\n",
        "    text_bottom -= text_height - 2 * margin\n",
        "\n",
        "\n",
        "def draw_boxes(image, boxes, class_names, scores, classes=[\"person\"], max_boxes=20, min_score=0.1):\n",
        "  \"\"\"Overlay labeled boxes on an image with formatted scores and label names.\"\"\"\n",
        "  colors = list(ImageColor.colormap.values())\n",
        "  font = ImageFont.load_default()\n",
        "\n",
        "  for i in range(min(boxes.shape[0], max_boxes)):\n",
        "    if scores[i] >= min_score:\n",
        "      ymin, xmin, ymax, xmax = tuple(boxes[i])\n",
        "      category = category_index[class_names[i]][\"name\"]\n",
        "      if category not in classes:\n",
        "        continue\n",
        "      display_str = \"{}: {}%\".format(category,\n",
        "                                     int(100 * scores[i]))\n",
        "      color = colors[hash(class_names[i]) % len(colors)]\n",
        "      image_pil = Image.fromarray(np.uint8(image)).convert(\"RGB\")\n",
        "      draw_bounding_box_on_image(\n",
        "          image_pil,\n",
        "          ymin,\n",
        "          xmin,\n",
        "          ymax,\n",
        "          xmax,\n",
        "          color,\n",
        "          font,\n",
        "          display_str_list=[display_str])\n",
        "      np.copyto(image, np.array(image_pil))\n",
        "  return image\n",
        "\n",
        "def load_image_into_numpy_array(path):\n",
        "  image_data = tf.io.gfile.GFile(path, 'rb').read()\n",
        "  image = Image.open(BytesIO(image_data))\n",
        "\n",
        "  (im_width, im_height) = image.size\n",
        "  return np.array(image.getdata()).reshape(\n",
        "      (1, im_height, im_width, 3)).astype(np.uint8)\n",
        "\n",
        "def load_img(path):\n",
        "  img = tf.io.read_file(path)\n",
        "  img = tf.image.decode_jpeg(img, channels=3)\n",
        "  return img\n",
        "\n",
        "def show_detections(result, img):\n",
        "  image_with_boxes = draw_boxes(\n",
        "      img.numpy(), result[\"detection_boxes\"][0],\n",
        "      result[\"detection_classes\"][0].astype(int), result[\"detection_scores\"][0])\n",
        "\n",
        "  display_image(image_with_boxes)"
      ],
      "execution_count": null,
      "outputs": []
    },
    {
      "cell_type": "code",
      "metadata": {
        "id": "6zOWmWNzb8Xf"
      },
      "source": [
        "def run_detect(detector, img_path):\n",
        "  image_np = load_image_into_numpy_array(img_path)\n",
        "  # running inference\n",
        "  results = detector(image_np)\n",
        "  result = {key:value.numpy() for key,value in results.items()}\n",
        "  return result    \n"
      ],
      "execution_count": null,
      "outputs": []
    },
    {
      "cell_type": "code",
      "metadata": {
        "id": "q6eL6nFewsGn"
      },
      "source": [
        "def get_person_detected(image, result, resolution, threshold=0.1):\n",
        "  classes = result[\"detection_classes\"][0].astype(int) \n",
        "  scores = result[\"detection_scores\"][0]\n",
        "  boxes = result[\"detection_boxes\"][0]\n",
        "  det = {\"image\": image}\n",
        "  peo = []\n",
        "  for i in range(len(classes)):\n",
        "    if classes[i] == 1 and scores[i]>=threshold:\n",
        "      peo.append(list(boxes[i]))\n",
        "  \n",
        "  im_width = resolution[\"width\"]#1280 \n",
        "  im_height = resolution[\"height\"]#720\n",
        "  \n",
        "  for i in range(len(peo)):\n",
        "    (ymin, xmin, ymax, xmax) = peo[i]\n",
        "    peo[i]= (int(xmin * im_width),  int(ymin * im_height), int(xmax * im_width),int(ymax * im_height))\n",
        "\n",
        "  det[\"people\"]= peo\n",
        "  det[\"total\"] = len(peo)\n",
        "\n",
        "\n",
        "  return det\n",
        "\n",
        "def correct_hog_detections(regions):\n",
        "    for i in range(len(regions)):\n",
        "        (x, y, w, h) = regions[i]\n",
        "        #print(x, y, w, h)\n",
        "        regions[i] = (x, y, x+w, y+h)\n",
        "    return regions"
      ],
      "execution_count": null,
      "outputs": []
    },
    {
      "cell_type": "markdown",
      "metadata": {
        "id": "59ihMe2YPgpL"
      },
      "source": [
        "# Tiempo de Inferencia"
      ]
    },
    {
      "cell_type": "code",
      "source": [
        "sgt = random.sample(ground_truth, 130)\n",
        "\n",
        "def time_inferences(inferences, model=\"Modelo\", print_results=False):\n",
        "  t_total = 0\n",
        "  t_min = inferences[0][\"time\"]\n",
        "  t_max = 0\n",
        "  for inference in inferences:\n",
        "    t_total += inference[\"time\"]\n",
        "    if inference[\"time\"] < t_min:\n",
        "      t_min = inference[\"time\"]\n",
        "    if inference[\"time\"] > t_max:\n",
        "      t_max = inference[\"time\"]\n",
        "  t_avg = t_total / len(inferences)\n",
        "  if print_results:\n",
        "    print(model)\n",
        "    print(\"Menor tiempo de inferencia:\", t_min)\n",
        "    print(\"Mayor tiempo de inferencia:\", t_max)\n",
        "    print(\"Tiempo total de inferencia: \", t_total)\n",
        "    print(\"Tiempo medio de inferencia: \", t_avg)    \n",
        "\n",
        "  return (t_total, t_max, t_min, t_avg)  "
      ],
      "metadata": {
        "id": "JdBDcsR075yK"
      },
      "execution_count": null,
      "outputs": []
    },
    {
      "cell_type": "markdown",
      "metadata": {
        "id": "MpBZOrpM3s9B"
      },
      "source": [
        "## Faster R-CNN"
      ]
    },
    {
      "cell_type": "code",
      "source": [
        "faster_inferences = []\n",
        "img_base_path = \"wisenet_img_dataset/\"\n",
        "# la primera vez que se realiza una inferencia el modelo tarda en cargar por lo \n",
        "# que para efectos de esta prueba se realiza un inferncia de prueba para cargar\n",
        "# el modelo\n",
        "run_detect(faster_rcnn, img_base_path+sgt[0]['image'])\n",
        "\n",
        "for d in sgt:\n",
        "  start_time = time.time()\n",
        "  result = run_detect(faster_rcnn, img_base_path+d['image'])\n",
        "  end_time = time.time()\n",
        "  det = get_person_detected(d['image'], result,d[\"resolution\"])\n",
        "  det['time'] = end_time-start_time\n",
        "  faster_inferences.append(det)#{\"image\":d['image'], \"result\":result, \"resolution\":d[\"resolution\"], \"time\":end_time-start_time})\n",
        "\n",
        "tiempos = time_inferences(faster_inferences, \"Faster R-CNN\", True)\n",
        "\n"
      ],
      "metadata": {
        "colab": {
          "base_uri": "https://localhost:8080/"
        },
        "id": "7964UioqESsb",
        "outputId": "4ff5a833-243f-4e4a-edcb-7e3da8611b63"
      },
      "execution_count": null,
      "outputs": [
        {
          "output_type": "stream",
          "name": "stdout",
          "text": [
            "Faster R-CNN\n",
            "Menor tiempo de inferencia: 1.2388365268707275\n",
            "Mayor tiempo de inferencia: 1.364365816116333\n",
            "Tiempo total de inferencia:  165.6929750442505\n",
            "Tiempo medio de inferencia:  1.2745613464942345\n"
          ]
        }
      ]
    },
    {
      "cell_type": "markdown",
      "metadata": {
        "id": "OiYPRMJV3ycd"
      },
      "source": [
        "## SSD"
      ]
    },
    {
      "cell_type": "code",
      "metadata": {
        "id": "ZxzkR27h4Jk1",
        "colab": {
          "base_uri": "https://localhost:8080/"
        },
        "outputId": "25f8e757-b89f-4443-85d4-f254904c6143"
      },
      "source": [
        "ssd_inferences = []\n",
        "run_detect(ssd, img_base_path+sgt[0]['image'])\n",
        "for d in sgt:\n",
        "  start_time = time.time()\n",
        "  result = run_detect(ssd, img_base_path+d['image'])\n",
        "  end_time = time.time()\n",
        "  det = get_person_detected(d['image'], result,d[\"resolution\"])\n",
        "  det['time'] = end_time-start_time\n",
        "  ssd_inferences.append(det)#{\"image\":d['image'], \"result\":result, \"resolution\":d[\"resolution\"], \"time\":end_time-start_time})\n",
        "\n",
        "tiempos = time_inferences(ssd_inferences, \"SSD\", True)"
      ],
      "execution_count": null,
      "outputs": [
        {
          "output_type": "stream",
          "name": "stdout",
          "text": [
            "SSD\n",
            "Menor tiempo de inferencia: 1.290156602859497\n",
            "Mayor tiempo de inferencia: 1.4140453338623047\n",
            "Tiempo total de inferencia:  172.41064858436584\n",
            "Tiempo medio de inferencia:  1.3262357583412758\n"
          ]
        }
      ]
    },
    {
      "cell_type": "markdown",
      "metadata": {
        "id": "e32Cc3C44ulq"
      },
      "source": [
        "## HOG"
      ]
    },
    {
      "cell_type": "code",
      "source": [
        "def run_hog_detect(img):\n",
        "  test = cv2.imread(img)\n",
        "  return hog.detectMultiScale(test)\n"
      ],
      "metadata": {
        "id": "jfpYJs4QZ5OU"
      },
      "execution_count": null,
      "outputs": []
    },
    {
      "cell_type": "code",
      "metadata": {
        "id": "d8kCmQDK4w4H",
        "colab": {
          "base_uri": "https://localhost:8080/"
        },
        "outputId": "f3b615f5-6be2-4726-c241-5fe45238542a"
      },
      "source": [
        "# hog no tiene el problema de la carga\n",
        "hog_inferences = []\n",
        "for d in sgt:\n",
        "  start_time = time.time()\n",
        "  (regions, _) = run_hog_detect(img_base_path+d['image'])\n",
        "  end_time = time.time()\n",
        "  regs = correct_hog_detections(regions)\n",
        "  hog_inferences.append({\"image\":d['image'], \"people\":regs, \"total\": len(regs), \"time\":end_time-start_time})\n",
        "\n",
        "\n",
        "tiempos = time_inferences(hog_inferences, \"HOG\", True)"
      ],
      "execution_count": null,
      "outputs": [
        {
          "output_type": "stream",
          "name": "stdout",
          "text": [
            "HOG\n",
            "Menor tiempo de inferencia: 0.6247243881225586\n",
            "Mayor tiempo de inferencia: 0.706587553024292\n",
            "Tiempo total de inferencia:  83.46585059165955\n",
            "Tiempo medio de inferencia:  0.6420450045512273\n"
          ]
        }
      ]
    },
    {
      "cell_type": "markdown",
      "metadata": {
        "id": "6OgBRoCj4xtL"
      },
      "source": [
        "## YOLO"
      ]
    },
    {
      "cell_type": "code",
      "metadata": {
        "id": "E9xQhAzt41vH",
        "colab": {
          "base_uri": "https://localhost:8080/"
        },
        "outputId": "90e8f3f7-581f-4855-a31d-e87e49ef880d"
      },
      "source": [
        "yolo_inferences = []\n",
        "results = yolo([img_base_path+sgt[0]['image']])\n",
        "\n",
        "for d in sgt:\n",
        "  start_time = time.time()\n",
        "  results = yolo([img_base_path+d['image']])\n",
        "  end_time = time.time()\n",
        "  people = []\n",
        "  cuadros = results.pandas().xyxy[0].to_dict(orient=\"records\")\n",
        "  for c in cuadros:\n",
        "    people.append([int(c['xmin']), int(c['ymin']), int(c['xmax']), int(c['ymax'])])\n",
        "  yolo_inferences.append({\"image\":d['image'], \"people\":people, \"total\":len(people),\"time\":end_time-start_time})\n",
        "\n",
        "tiempos = time_inferences(yolo_inferences, \"YOLO\", True)"
      ],
      "execution_count": null,
      "outputs": [
        {
          "output_type": "stream",
          "name": "stdout",
          "text": [
            "YOLO\n",
            "Menor tiempo de inferencia: 0.019646406173706055\n",
            "Mayor tiempo de inferencia: 0.04247879981994629\n",
            "Tiempo total de inferencia:  3.052029848098755\n",
            "Tiempo medio de inferencia:  0.02347715267768273\n"
          ]
        }
      ]
    },
    {
      "cell_type": "code",
      "source": [
        "def print_image_times(model, inferences):\n",
        "  #print(model)\n",
        "  tiempos = []\n",
        "  for inference in inferences:\n",
        "    tiempos.append({'nivel':model, 'tiempo':inference['time']})\n",
        "    print(f\"{model},{inference['time']}\")\n",
        "    #tiempos.append(inference['time'])\n",
        "  return tiempos\n",
        "  #print(\"\\n\")\n",
        "print(\"Nivel,Tiempo\")\n",
        "\n",
        "tiempos = print_image_times(\"Faster R-CNN\", faster_inferences)\n",
        "tiempos += print_image_times(\"SSD\", ssd_inferences)\n",
        "tiempos += print_image_times(\"HOG\", hog_inferences)\n",
        "tiempos += print_image_times(\"YOLO\", yolo_inferences)"
      ],
      "metadata": {
        "colab": {
          "base_uri": "https://localhost:8080/"
        },
        "id": "KAKDMCO5V5jS",
        "outputId": "7f179fd1-d8e1-499e-8c82-0289d688c801"
      },
      "execution_count": null,
      "outputs": [
        {
          "output_type": "stream",
          "name": "stdout",
          "text": [
            "Nivel,Tiempo\n",
            "Faster R-CNN,1.320105791091919\n",
            "Faster R-CNN,1.2602062225341797\n",
            "Faster R-CNN,1.293102741241455\n",
            "Faster R-CNN,1.2765913009643555\n",
            "Faster R-CNN,1.2667651176452637\n",
            "Faster R-CNN,1.2748587131500244\n",
            "Faster R-CNN,1.2907307147979736\n",
            "Faster R-CNN,1.2985858917236328\n",
            "Faster R-CNN,1.2695870399475098\n",
            "Faster R-CNN,1.3183581829071045\n",
            "Faster R-CNN,1.3330738544464111\n",
            "Faster R-CNN,1.270740270614624\n",
            "Faster R-CNN,1.280796766281128\n",
            "Faster R-CNN,1.2778711318969727\n",
            "Faster R-CNN,1.2666466236114502\n",
            "Faster R-CNN,1.3261706829071045\n",
            "Faster R-CNN,1.2519032955169678\n",
            "Faster R-CNN,1.3103053569793701\n",
            "Faster R-CNN,1.3233091831207275\n",
            "Faster R-CNN,1.2655177116394043\n",
            "Faster R-CNN,1.310687780380249\n",
            "Faster R-CNN,1.2870211601257324\n",
            "Faster R-CNN,1.2624695301055908\n",
            "Faster R-CNN,1.3145818710327148\n",
            "Faster R-CNN,1.2684013843536377\n",
            "Faster R-CNN,1.2531521320343018\n",
            "Faster R-CNN,1.2613022327423096\n",
            "Faster R-CNN,1.2673475742340088\n",
            "Faster R-CNN,1.251162052154541\n",
            "Faster R-CNN,1.2654781341552734\n",
            "Faster R-CNN,1.2881131172180176\n",
            "Faster R-CNN,1.3219568729400635\n",
            "Faster R-CNN,1.2644648551940918\n",
            "Faster R-CNN,1.2670276165008545\n",
            "Faster R-CNN,1.2552177906036377\n",
            "Faster R-CNN,1.2531609535217285\n",
            "Faster R-CNN,1.2635316848754883\n",
            "Faster R-CNN,1.2601776123046875\n",
            "Faster R-CNN,1.2640793323516846\n",
            "Faster R-CNN,1.2515079975128174\n",
            "Faster R-CNN,1.2787177562713623\n",
            "Faster R-CNN,1.3148407936096191\n",
            "Faster R-CNN,1.2563588619232178\n",
            "Faster R-CNN,1.266615390777588\n",
            "Faster R-CNN,1.275914192199707\n",
            "Faster R-CNN,1.2820966243743896\n",
            "Faster R-CNN,1.299558162689209\n",
            "Faster R-CNN,1.2887256145477295\n",
            "Faster R-CNN,1.2590372562408447\n",
            "Faster R-CNN,1.315690040588379\n",
            "Faster R-CNN,1.260148048400879\n",
            "Faster R-CNN,1.24784255027771\n",
            "Faster R-CNN,1.248075008392334\n",
            "Faster R-CNN,1.2457859516143799\n",
            "Faster R-CNN,1.3410077095031738\n",
            "Faster R-CNN,1.2388365268707275\n",
            "Faster R-CNN,1.2524456977844238\n",
            "Faster R-CNN,1.3329572677612305\n",
            "Faster R-CNN,1.2452795505523682\n",
            "Faster R-CNN,1.2399396896362305\n",
            "Faster R-CNN,1.2447147369384766\n",
            "Faster R-CNN,1.2670817375183105\n",
            "Faster R-CNN,1.3099079132080078\n",
            "Faster R-CNN,1.2843327522277832\n",
            "Faster R-CNN,1.2505991458892822\n",
            "Faster R-CNN,1.2757084369659424\n",
            "Faster R-CNN,1.2777273654937744\n",
            "Faster R-CNN,1.260643482208252\n",
            "Faster R-CNN,1.3096489906311035\n",
            "Faster R-CNN,1.240170955657959\n",
            "Faster R-CNN,1.2763986587524414\n",
            "Faster R-CNN,1.3015506267547607\n",
            "Faster R-CNN,1.2445826530456543\n",
            "Faster R-CNN,1.2810211181640625\n",
            "Faster R-CNN,1.364365816116333\n",
            "Faster R-CNN,1.3034842014312744\n",
            "Faster R-CNN,1.2432851791381836\n",
            "Faster R-CNN,1.2712852954864502\n",
            "Faster R-CNN,1.267974853515625\n",
            "Faster R-CNN,1.2770824432373047\n",
            "Faster R-CNN,1.2886817455291748\n",
            "Faster R-CNN,1.260038137435913\n",
            "Faster R-CNN,1.2544665336608887\n",
            "Faster R-CNN,1.2882485389709473\n",
            "Faster R-CNN,1.3049187660217285\n",
            "Faster R-CNN,1.2830777168273926\n",
            "Faster R-CNN,1.279505968093872\n",
            "Faster R-CNN,1.3016340732574463\n",
            "Faster R-CNN,1.2545323371887207\n",
            "Faster R-CNN,1.249922513961792\n",
            "Faster R-CNN,1.2622995376586914\n",
            "Faster R-CNN,1.2649633884429932\n",
            "Faster R-CNN,1.3003201484680176\n",
            "Faster R-CNN,1.2481586933135986\n",
            "Faster R-CNN,1.2587177753448486\n",
            "Faster R-CNN,1.257922649383545\n",
            "Faster R-CNN,1.261401891708374\n",
            "Faster R-CNN,1.260859727859497\n",
            "Faster R-CNN,1.2484636306762695\n",
            "Faster R-CNN,1.2539236545562744\n",
            "Faster R-CNN,1.2495760917663574\n",
            "Faster R-CNN,1.2516400814056396\n",
            "Faster R-CNN,1.2557477951049805\n",
            "Faster R-CNN,1.2587621212005615\n",
            "Faster R-CNN,1.2538058757781982\n",
            "Faster R-CNN,1.2492835521697998\n",
            "Faster R-CNN,1.2826175689697266\n",
            "Faster R-CNN,1.2401182651519775\n",
            "Faster R-CNN,1.2520411014556885\n",
            "Faster R-CNN,1.2957167625427246\n",
            "Faster R-CNN,1.2700343132019043\n",
            "Faster R-CNN,1.2420063018798828\n",
            "Faster R-CNN,1.2644214630126953\n",
            "Faster R-CNN,1.2670376300811768\n",
            "Faster R-CNN,1.301375389099121\n",
            "Faster R-CNN,1.2498679161071777\n",
            "Faster R-CNN,1.2678275108337402\n",
            "Faster R-CNN,1.2681896686553955\n",
            "Faster R-CNN,1.2895042896270752\n",
            "Faster R-CNN,1.2447810173034668\n",
            "Faster R-CNN,1.2650206089019775\n",
            "Faster R-CNN,1.2957103252410889\n",
            "Faster R-CNN,1.2802667617797852\n",
            "Faster R-CNN,1.2658419609069824\n",
            "Faster R-CNN,1.283569574356079\n",
            "Faster R-CNN,1.2555150985717773\n",
            "Faster R-CNN,1.3054792881011963\n",
            "Faster R-CNN,1.2473759651184082\n",
            "Faster R-CNN,1.3427269458770752\n",
            "Faster R-CNN,1.2675490379333496\n",
            "SSD,1.3331563472747803\n",
            "SSD,1.3191118240356445\n",
            "SSD,1.3447983264923096\n",
            "SSD,1.3323726654052734\n",
            "SSD,1.2907299995422363\n",
            "SSD,1.3072946071624756\n",
            "SSD,1.3014099597930908\n",
            "SSD,1.3536272048950195\n",
            "SSD,1.3027098178863525\n",
            "SSD,1.2945020198822021\n",
            "SSD,1.3486332893371582\n",
            "SSD,1.3761625289916992\n",
            "SSD,1.3023018836975098\n",
            "SSD,1.3274822235107422\n",
            "SSD,1.3542609214782715\n",
            "SSD,1.3331689834594727\n",
            "SSD,1.327699899673462\n",
            "SSD,1.3873326778411865\n",
            "SSD,1.3330934047698975\n",
            "SSD,1.3235599994659424\n",
            "SSD,1.3827970027923584\n",
            "SSD,1.296990156173706\n",
            "SSD,1.3171186447143555\n",
            "SSD,1.3124024868011475\n",
            "SSD,1.3347854614257812\n",
            "SSD,1.3327844142913818\n",
            "SSD,1.3115711212158203\n",
            "SSD,1.3265469074249268\n",
            "SSD,1.3184919357299805\n",
            "SSD,1.3436155319213867\n",
            "SSD,1.3043699264526367\n",
            "SSD,1.3011255264282227\n",
            "SSD,1.3182330131530762\n",
            "SSD,1.3327693939208984\n",
            "SSD,1.3082120418548584\n",
            "SSD,1.3180363178253174\n",
            "SSD,1.3009395599365234\n",
            "SSD,1.302208662033081\n",
            "SSD,1.2975327968597412\n",
            "SSD,1.292161464691162\n",
            "SSD,1.3066868782043457\n",
            "SSD,1.3304386138916016\n",
            "SSD,1.3211889266967773\n",
            "SSD,1.2911500930786133\n",
            "SSD,1.3734326362609863\n",
            "SSD,1.3033931255340576\n",
            "SSD,1.3248753547668457\n",
            "SSD,1.308448314666748\n",
            "SSD,1.3361220359802246\n",
            "SSD,1.3323049545288086\n",
            "SSD,1.3636226654052734\n",
            "SSD,1.3049647808074951\n",
            "SSD,1.3466856479644775\n",
            "SSD,1.3656237125396729\n",
            "SSD,1.3025813102722168\n",
            "SSD,1.290156602859497\n",
            "SSD,1.353651762008667\n",
            "SSD,1.3347351551055908\n",
            "SSD,1.3221819400787354\n",
            "SSD,1.3016324043273926\n",
            "SSD,1.3471753597259521\n",
            "SSD,1.3443942070007324\n",
            "SSD,1.3318910598754883\n",
            "SSD,1.32340407371521\n",
            "SSD,1.3456623554229736\n",
            "SSD,1.3625116348266602\n",
            "SSD,1.3178975582122803\n",
            "SSD,1.3342409133911133\n",
            "SSD,1.323803424835205\n",
            "SSD,1.3433241844177246\n",
            "SSD,1.3274075984954834\n",
            "SSD,1.3089425563812256\n",
            "SSD,1.2995860576629639\n",
            "SSD,1.3429172039031982\n",
            "SSD,1.3201348781585693\n",
            "SSD,1.3447437286376953\n",
            "SSD,1.3222699165344238\n",
            "SSD,1.3173983097076416\n",
            "SSD,1.3280205726623535\n",
            "SSD,1.2922053337097168\n",
            "SSD,1.3156309127807617\n",
            "SSD,1.3237340450286865\n",
            "SSD,1.376779317855835\n",
            "SSD,1.3119938373565674\n",
            "SSD,1.3026916980743408\n",
            "SSD,1.3210110664367676\n",
            "SSD,1.3118774890899658\n",
            "SSD,1.3208394050598145\n",
            "SSD,1.3127412796020508\n",
            "SSD,1.308480978012085\n",
            "SSD,1.3111381530761719\n",
            "SSD,1.3042175769805908\n",
            "SSD,1.324847936630249\n",
            "SSD,1.3478164672851562\n",
            "SSD,1.317004680633545\n",
            "SSD,1.3181467056274414\n",
            "SSD,1.3042287826538086\n",
            "SSD,1.2997276782989502\n",
            "SSD,1.308971881866455\n",
            "SSD,1.3005039691925049\n",
            "SSD,1.3537776470184326\n",
            "SSD,1.3594777584075928\n",
            "SSD,1.3813796043395996\n",
            "SSD,1.3156614303588867\n",
            "SSD,1.3027257919311523\n",
            "SSD,1.3179712295532227\n",
            "SSD,1.353377342224121\n",
            "SSD,1.3416671752929688\n",
            "SSD,1.3052175045013428\n",
            "SSD,1.3653204441070557\n",
            "SSD,1.3248865604400635\n",
            "SSD,1.2933871746063232\n",
            "SSD,1.395326852798462\n",
            "SSD,1.3106627464294434\n",
            "SSD,1.3011105060577393\n",
            "SSD,1.3320848941802979\n",
            "SSD,1.315131664276123\n",
            "SSD,1.3017082214355469\n",
            "SSD,1.2953550815582275\n",
            "SSD,1.3654260635375977\n",
            "SSD,1.3332314491271973\n",
            "SSD,1.355722427368164\n",
            "SSD,1.3421626091003418\n",
            "SSD,1.3142919540405273\n",
            "SSD,1.331404685974121\n",
            "SSD,1.3303098678588867\n",
            "SSD,1.2904748916625977\n",
            "SSD,1.4140453338623047\n",
            "SSD,1.3052589893341064\n",
            "SSD,1.3817980289459229\n",
            "HOG,0.6590554714202881\n",
            "HOG,0.6677687168121338\n",
            "HOG,0.6341686248779297\n",
            "HOG,0.6268458366394043\n",
            "HOG,0.6543948650360107\n",
            "HOG,0.634364128112793\n",
            "HOG,0.6283466815948486\n",
            "HOG,0.6293606758117676\n",
            "HOG,0.6286067962646484\n",
            "HOG,0.6640646457672119\n",
            "HOG,0.62850022315979\n",
            "HOG,0.6515212059020996\n",
            "HOG,0.6478536128997803\n",
            "HOG,0.626105785369873\n",
            "HOG,0.6616911888122559\n",
            "HOG,0.6353123188018799\n",
            "HOG,0.6623568534851074\n",
            "HOG,0.6397705078125\n",
            "HOG,0.6309804916381836\n",
            "HOG,0.6505515575408936\n",
            "HOG,0.6877410411834717\n",
            "HOG,0.6277787685394287\n",
            "HOG,0.6275556087493896\n",
            "HOG,0.628288745880127\n",
            "HOG,0.6309366226196289\n",
            "HOG,0.637052059173584\n",
            "HOG,0.6455440521240234\n",
            "HOG,0.6297938823699951\n",
            "HOG,0.6304843425750732\n",
            "HOG,0.6370720863342285\n",
            "HOG,0.6392552852630615\n",
            "HOG,0.631948709487915\n",
            "HOG,0.6336202621459961\n",
            "HOG,0.6349437236785889\n",
            "HOG,0.6334476470947266\n",
            "HOG,0.6414620876312256\n",
            "HOG,0.6370787620544434\n",
            "HOG,0.6359436511993408\n",
            "HOG,0.634451150894165\n",
            "HOG,0.6318929195404053\n",
            "HOG,0.6331052780151367\n",
            "HOG,0.6342031955718994\n",
            "HOG,0.6344788074493408\n",
            "HOG,0.6339206695556641\n",
            "HOG,0.6334104537963867\n",
            "HOG,0.6363933086395264\n",
            "HOG,0.6748795509338379\n",
            "HOG,0.6677050590515137\n",
            "HOG,0.6747698783874512\n",
            "HOG,0.6624846458435059\n",
            "HOG,0.6307616233825684\n",
            "HOG,0.66196608543396\n",
            "HOG,0.633272647857666\n",
            "HOG,0.6471402645111084\n",
            "HOG,0.6386144161224365\n",
            "HOG,0.6285383701324463\n",
            "HOG,0.6273462772369385\n",
            "HOG,0.657660722732544\n",
            "HOG,0.6359105110168457\n",
            "HOG,0.6549553871154785\n",
            "HOG,0.6288866996765137\n",
            "HOG,0.6352360248565674\n",
            "HOG,0.6887116432189941\n",
            "HOG,0.6284751892089844\n",
            "HOG,0.6460011005401611\n",
            "HOG,0.6292338371276855\n",
            "HOG,0.637902021408081\n",
            "HOG,0.6776607036590576\n",
            "HOG,0.6328988075256348\n",
            "HOG,0.6296062469482422\n",
            "HOG,0.6269557476043701\n",
            "HOG,0.6274220943450928\n",
            "HOG,0.6263082027435303\n",
            "HOG,0.6819579601287842\n",
            "HOG,0.6581497192382812\n",
            "HOG,0.676771879196167\n",
            "HOG,0.6570093631744385\n",
            "HOG,0.6430625915527344\n",
            "HOG,0.6564943790435791\n",
            "HOG,0.67816162109375\n",
            "HOG,0.6380023956298828\n",
            "HOG,0.627600908279419\n",
            "HOG,0.6536331176757812\n",
            "HOG,0.6296076774597168\n",
            "HOG,0.6586523056030273\n",
            "HOG,0.6270730495452881\n",
            "HOG,0.6268332004547119\n",
            "HOG,0.6888680458068848\n",
            "HOG,0.648662805557251\n",
            "HOG,0.6360294818878174\n",
            "HOG,0.6497890949249268\n",
            "HOG,0.6373333930969238\n",
            "HOG,0.641106128692627\n",
            "HOG,0.6261835098266602\n",
            "HOG,0.6262245178222656\n",
            "HOG,0.6422481536865234\n",
            "HOG,0.6259481906890869\n",
            "HOG,0.6731245517730713\n",
            "HOG,0.6501049995422363\n",
            "HOG,0.6350739002227783\n",
            "HOG,0.6492645740509033\n",
            "HOG,0.6266775131225586\n",
            "HOG,0.6346549987792969\n",
            "HOG,0.6453025341033936\n",
            "HOG,0.629199743270874\n",
            "HOG,0.6266508102416992\n",
            "HOG,0.6402645111083984\n",
            "HOG,0.6442837715148926\n",
            "HOG,0.6276242733001709\n",
            "HOG,0.6272447109222412\n",
            "HOG,0.6478490829467773\n",
            "HOG,0.630047082901001\n",
            "HOG,0.6283175945281982\n",
            "HOG,0.6268479824066162\n",
            "HOG,0.6355061531066895\n",
            "HOG,0.6547942161560059\n",
            "HOG,0.650954008102417\n",
            "HOG,0.6358275413513184\n",
            "HOG,0.646801233291626\n",
            "HOG,0.706587553024292\n",
            "HOG,0.6367950439453125\n",
            "HOG,0.6327383518218994\n",
            "HOG,0.6262078285217285\n",
            "HOG,0.6367740631103516\n",
            "HOG,0.62660813331604\n",
            "HOG,0.6349565982818604\n",
            "HOG,0.6601495742797852\n",
            "HOG,0.6247243881225586\n",
            "HOG,0.6331202983856201\n",
            "HOG,0.6306424140930176\n",
            "YOLO,0.02155923843383789\n",
            "YOLO,0.022050142288208008\n",
            "YOLO,0.04247879981994629\n",
            "YOLO,0.023040056228637695\n",
            "YOLO,0.02184271812438965\n",
            "YOLO,0.02145695686340332\n",
            "YOLO,0.023723125457763672\n",
            "YOLO,0.023411035537719727\n",
            "YOLO,0.0236053466796875\n",
            "YOLO,0.021587133407592773\n",
            "YOLO,0.023362398147583008\n",
            "YOLO,0.02293539047241211\n",
            "YOLO,0.022510528564453125\n",
            "YOLO,0.0209805965423584\n",
            "YOLO,0.022564411163330078\n",
            "YOLO,0.02263355255126953\n",
            "YOLO,0.022041797637939453\n",
            "YOLO,0.022714614868164062\n",
            "YOLO,0.022397518157958984\n",
            "YOLO,0.021798133850097656\n",
            "YOLO,0.020390033721923828\n",
            "YOLO,0.020912647247314453\n",
            "YOLO,0.025475740432739258\n",
            "YOLO,0.02516031265258789\n",
            "YOLO,0.02499985694885254\n",
            "YOLO,0.02292156219482422\n",
            "YOLO,0.025318145751953125\n",
            "YOLO,0.02717757225036621\n",
            "YOLO,0.026902198791503906\n",
            "YOLO,0.024353504180908203\n",
            "YOLO,0.022637128829956055\n",
            "YOLO,0.023908138275146484\n",
            "YOLO,0.023059844970703125\n",
            "YOLO,0.02481555938720703\n",
            "YOLO,0.024631023406982422\n",
            "YOLO,0.023515939712524414\n",
            "YOLO,0.027812480926513672\n",
            "YOLO,0.027034759521484375\n",
            "YOLO,0.02512526512145996\n",
            "YOLO,0.02068638801574707\n",
            "YOLO,0.021744251251220703\n",
            "YOLO,0.019951581954956055\n",
            "YOLO,0.02317333221435547\n",
            "YOLO,0.021404504776000977\n",
            "YOLO,0.023372650146484375\n",
            "YOLO,0.023245811462402344\n",
            "YOLO,0.0231931209564209\n",
            "YOLO,0.022736072540283203\n",
            "YOLO,0.021602630615234375\n",
            "YOLO,0.023236513137817383\n",
            "YOLO,0.021100521087646484\n",
            "YOLO,0.02264857292175293\n",
            "YOLO,0.023030757904052734\n",
            "YOLO,0.022812843322753906\n",
            "YOLO,0.022728443145751953\n",
            "YOLO,0.019646406173706055\n",
            "YOLO,0.02261495590209961\n",
            "YOLO,0.025469064712524414\n",
            "YOLO,0.022746801376342773\n",
            "YOLO,0.022621870040893555\n",
            "YOLO,0.02147960662841797\n",
            "YOLO,0.024698972702026367\n",
            "YOLO,0.022483110427856445\n",
            "YOLO,0.022708415985107422\n",
            "YOLO,0.025060653686523438\n",
            "YOLO,0.022792577743530273\n",
            "YOLO,0.021399974822998047\n",
            "YOLO,0.0232846736907959\n",
            "YOLO,0.021697521209716797\n",
            "YOLO,0.02054429054260254\n",
            "YOLO,0.020851612091064453\n",
            "YOLO,0.022849082946777344\n",
            "YOLO,0.022832155227661133\n",
            "YOLO,0.02114558219909668\n",
            "YOLO,0.023077964782714844\n",
            "YOLO,0.02304863929748535\n",
            "YOLO,0.02266407012939453\n",
            "YOLO,0.022504806518554688\n",
            "YOLO,0.022322416305541992\n",
            "YOLO,0.020740747451782227\n",
            "YOLO,0.023748397827148438\n",
            "YOLO,0.022979021072387695\n",
            "YOLO,0.023082494735717773\n",
            "YOLO,0.02216506004333496\n",
            "YOLO,0.021477699279785156\n",
            "YOLO,0.021392822265625\n",
            "YOLO,0.024519920349121094\n",
            "YOLO,0.023249149322509766\n",
            "YOLO,0.0225527286529541\n",
            "YOLO,0.022428274154663086\n",
            "YOLO,0.02243208885192871\n",
            "YOLO,0.02074909210205078\n",
            "YOLO,0.02152872085571289\n",
            "YOLO,0.022496461868286133\n",
            "YOLO,0.021158695220947266\n",
            "YOLO,0.022504806518554688\n",
            "YOLO,0.02223825454711914\n",
            "YOLO,0.024081945419311523\n",
            "YOLO,0.023618459701538086\n",
            "YOLO,0.026049137115478516\n",
            "YOLO,0.025267839431762695\n",
            "YOLO,0.025562763214111328\n",
            "YOLO,0.023257970809936523\n",
            "YOLO,0.02260613441467285\n",
            "YOLO,0.025664091110229492\n",
            "YOLO,0.025525331497192383\n",
            "YOLO,0.02832508087158203\n",
            "YOLO,0.025060653686523438\n",
            "YOLO,0.02392292022705078\n",
            "YOLO,0.024764537811279297\n",
            "YOLO,0.023731470108032227\n",
            "YOLO,0.021780967712402344\n",
            "YOLO,0.021884918212890625\n",
            "YOLO,0.024761676788330078\n",
            "YOLO,0.02546215057373047\n",
            "YOLO,0.02577495574951172\n",
            "YOLO,0.023897647857666016\n",
            "YOLO,0.02579331398010254\n",
            "YOLO,0.02466106414794922\n",
            "YOLO,0.025222063064575195\n",
            "YOLO,0.024309873580932617\n",
            "YOLO,0.024385929107666016\n",
            "YOLO,0.02635478973388672\n",
            "YOLO,0.025636911392211914\n",
            "YOLO,0.025483369827270508\n",
            "YOLO,0.025582075119018555\n",
            "YOLO,0.024603843688964844\n",
            "YOLO,0.025643587112426758\n",
            "YOLO,0.02551579475402832\n",
            "YOLO,0.024333715438842773\n"
          ]
        }
      ]
    },
    {
      "cell_type": "markdown",
      "metadata": {
        "id": "eRv7pyYk6fUB"
      },
      "source": [
        "# Precisión de los modelos"
      ]
    },
    {
      "cell_type": "code",
      "metadata": {
        "id": "ePJK-P0foxQw"
      },
      "source": [
        "def intersection_over_union(boxA, boxB):\n",
        "  # tomado de https://www.pyimagesearch.com/2016/11/07/intersection-over-union-iou-for-object-detection/\n",
        "\txA = max(boxA[0], boxB[0])\n",
        "\tyA = max(boxA[1], boxB[1])\n",
        "\txB = min(boxA[2], boxB[2])\n",
        "\tyB = min(boxA[3], boxB[3])\n",
        "\t# calcula el area de interseccion\n",
        "\tinterArea = max(0, xB - xA + 1) * max(0, yB - yA + 1)\n",
        "\t# calcula el area de la prediccion y ground-truth\n",
        "\tboxAArea = (boxA[2] - boxA[0] + 1) * (boxA[3] - boxA[1] + 1)\n",
        "\tboxBArea = (boxB[2] - boxB[0] + 1) * (boxB[3] - boxB[1] + 1)\n",
        "\t# area and dividing it by the sum of prediction + ground-truth\n",
        "\t# areas - the interesection area\n",
        "\tiou = interArea / float(boxAArea + boxBArea - interArea)\n",
        "\t# devueve el valor de la  IOU (intersection over union)\n",
        "\treturn iou"
      ],
      "execution_count": null,
      "outputs": []
    },
    {
      "cell_type": "code",
      "source": [
        "def iou_per_inference(pr, gt):\n",
        "  # en esta primera parte se calcula el iou de todas las cajas \n",
        "  # detectadas y en resultado se guarda junto con \n",
        "  # el indice de la caja en el ground truth\n",
        "  # en este punto solo se verifica que exista un valor de iou mayor a 0\n",
        "  result =[]\n",
        "  for i in range(len(pr)):\n",
        "    box1 = pr[i]\n",
        "    for j in range(len(gt)):\n",
        "      box2 = gt[j]\n",
        "      iou = intersection_over_union(box1, box2)\n",
        "      if iou > 0 :\n",
        "        result.append((j, iou, i))\n",
        "\n",
        "  # en esta segunda parte se verifican los posibles traslapes ya que esto \n",
        "  # puede ocacionar que se realice una doble deteccion es decir que una misma\n",
        "  # caja en el ground truth haya sido detectada dos veces si ese es el caso\n",
        "  # por simplicidad se tomará el que tenga el iou mas alto y a los demas \n",
        "  # se les asignara 0\n",
        "  best_matches = []\n",
        "  for i in range(len(result)):\n",
        "    f1 = result[i]\n",
        "    max_index_iou = i\n",
        "    max_iou = f1[1]\n",
        "    for j in range(len(result)):\n",
        "      f2 = result[j]\n",
        "      if f1[0] == f2[0]:\n",
        "        if f2[1] > max_iou:\n",
        "          max_index_iou = j\n",
        "          max_iou = f2[1]\n",
        "    if max_index_iou not in best_matches:\n",
        "      best_matches.append(max_index_iou) \n",
        "  #print(len(result), len(pr))\n",
        "\n",
        "  # esta seccion es donde se verifica solo las mejores coincidencias \n",
        "  ious = [0 for i in range(len(pr))]\n",
        "  for i in range(len(result)):\n",
        "    if i in best_matches:\n",
        "      index_gt = result[i][2]\n",
        "      #print(index_gt)\n",
        "      ious[index_gt] = result[i][1] \n",
        "\n",
        "  return ious\n",
        "      \n",
        "\n",
        "\n",
        "def iou_for_all_inferences(pr, gt):\n",
        "  # en cada inferencia puede haber mas de una deteccion\n",
        "  # por cada deteccion se calcula el iou\n",
        "  results = []\n",
        "  for i in range(len(pr)):\n",
        "    r = pr[i]\n",
        "    img = {\"image\": r['image']}\n",
        "    img[\"boxes_iou\"] = iou_per_inference(r['people'], gt[i]['people'])\n",
        "    img[\"expected\"] = len(gt[i]['people'])\n",
        "    img[\"detected\"] = len(r['people'])\n",
        "    results.append(img)\n",
        "  return results "
      ],
      "metadata": {
        "id": "rGFc3SWDSk7S"
      },
      "execution_count": null,
      "outputs": []
    },
    {
      "cell_type": "code",
      "source": [
        "def calculate_TF_PN_Img(iou, threshold=0.3):\n",
        "  TP = 0\n",
        "  FP = 0\n",
        "  TD = iou['detected']\n",
        "  GT = iou['expected']\n",
        "  deteciones = []\n",
        "  for box in iou['boxes_iou']:\n",
        "    if box >= threshold:\n",
        "      TP += 1\n",
        "    else:\n",
        "      FP += 1  \n",
        "  return {\"TP\": TP, \"FP\": FP, \"TD\": TD, \"GT\": GT}"
      ],
      "metadata": {
        "id": "p_7BLq7IwTuq"
      },
      "execution_count": null,
      "outputs": []
    },
    {
      "cell_type": "code",
      "metadata": {
        "id": "8eoCecNGiTvF"
      },
      "source": [
        "def calculate_TF_PN(ious, threshold=0.3):\n",
        "  TP = 0\n",
        "  FP = 0\n",
        "  TD = 0 \n",
        "  GT = 0\n",
        "  for iou in ious:\n",
        "    TD += iou['detected']\n",
        "    GT += iou['expected']\n",
        "    for box in iou['boxes_iou']:\n",
        "      if box >= threshold:\n",
        "        TP += 1\n",
        "      else:\n",
        "        FP += 1\n",
        "  return {\"TP\": TP, \"FP\": FP, \"FN\": GT-TP, \"TD\": TD, \"GT\": GT}"
      ],
      "execution_count": null,
      "outputs": []
    },
    {
      "cell_type": "code",
      "source": [
        "def calculate_precision(res):\n",
        "  return res['TP']/res['TD']\n",
        "\n",
        "def calculate_recall(res):\n",
        "  return res['TP']/res['GT']\n",
        "\n",
        "def calculate_P_R(ious):\n",
        "  tf_pn = calculate_TF_PN(ious)\n",
        "  return (calculate_precision(tf_pn),calculate_recall(tf_pn))"
      ],
      "metadata": {
        "id": "rw1S3VLDNv4q"
      },
      "execution_count": null,
      "outputs": []
    },
    {
      "cell_type": "code",
      "metadata": {
        "id": "OzPBMLtG7-m9"
      },
      "source": [
        "faster_ious = iou_for_all_inferences(faster_inferences, sgt)\n",
        "ssd_ious = iou_for_all_inferences(ssd_inferences, sgt)\n",
        "hog_ious = iou_for_all_inferences(hog_inferences, sgt)\n",
        "yolo_ious = iou_for_all_inferences(yolo_inferences, sgt)\n"
      ],
      "execution_count": null,
      "outputs": []
    },
    {
      "cell_type": "code",
      "metadata": {
        "colab": {
          "base_uri": "https://localhost:8080/"
        },
        "id": "wVXR1AQaS1vu",
        "outputId": "9e8731e2-e74e-4a05-9cc5-91bbb644dadb"
      },
      "source": [
        "print(\"Faster\", calculate_TF_PN(faster_ious))\n",
        "print(\"SSD\", calculate_TF_PN(ssd_ious))\n",
        "print(\"HOG\", calculate_TF_PN(hog_ious))\n",
        "print(\"YOLO\", calculate_TF_PN(yolo_ious))"
      ],
      "execution_count": null,
      "outputs": [
        {
          "output_type": "stream",
          "name": "stdout",
          "text": [
            "Faster {'TP': 166, 'FP': 65, 'FN': 36, 'TD': 231, 'GT': 202}\n",
            "SSD {'TP': 185, 'FP': 258, 'FN': 17, 'TD': 443, 'GT': 202}\n",
            "HOG {'TP': 73, 'FP': 188, 'FN': 129, 'TD': 261, 'GT': 202}\n",
            "YOLO {'TP': 167, 'FP': 16, 'FN': 35, 'TD': 183, 'GT': 202}\n"
          ]
        }
      ]
    },
    {
      "cell_type": "code",
      "source": [
        "print(\"Faster Precision(%f) Recall(%f)\" % calculate_P_R(faster_ious))\n",
        "print(\"SSD Precision(%f) Recall(%f)\" % calculate_P_R(ssd_ious))\n",
        "print(\"HOG Precision(%f) Recall(%f)\" % calculate_P_R(hog_ious))\n",
        "print(\"YOLO Precision(%f) Recall(%f)\" % calculate_P_R(yolo_ious))"
      ],
      "metadata": {
        "colab": {
          "base_uri": "https://localhost:8080/"
        },
        "id": "cHBq-dYqNqm8",
        "outputId": "86d4cea6-aa6f-4c04-f7cc-d5d2090ce197"
      },
      "execution_count": null,
      "outputs": [
        {
          "output_type": "stream",
          "name": "stdout",
          "text": [
            "Faster Precision(0.718615) Recall(0.821782)\n",
            "SSD Precision(0.417607) Recall(0.915842)\n",
            "HOG Precision(0.279693) Recall(0.361386)\n",
            "YOLO Precision(0.912568) Recall(0.826733)\n"
          ]
        }
      ]
    },
    {
      "cell_type": "markdown",
      "source": [
        "# Estimación de errores"
      ],
      "metadata": {
        "id": "R0O6-uSHOsJ4"
      }
    },
    {
      "cell_type": "code",
      "source": [
        "import sklearn.metrics as metrics "
      ],
      "metadata": {
        "id": "-apXchDLRVSV"
      },
      "execution_count": null,
      "outputs": []
    },
    {
      "cell_type": "code",
      "source": [
        "y_true = [x['total']for x in sgt]\n",
        "faster_detected = [x['detected'] for x in faster_ious]\n",
        "ssd_detected = [x['detected'] for x in ssd_ious]\n",
        "hog_detected = [x['detected'] for x in hog_ious]\n",
        "yolo_detected = [x['detected'] for x in yolo_ious]\n",
        "\n",
        "\n",
        "print(\"FASTER R-CNN\")\n",
        "print(\"MSE:\", metrics.mean_squared_error(y_true, faster_detected))\n",
        "print(\"RMSE:\", metrics.mean_squared_error(y_true, faster_detected, squared=False))\n",
        "print(\"MAE:\", metrics.mean_absolute_error(y_true, faster_detected))\n",
        "\n",
        "print(\"SSD\")\n",
        "print(\"MSE:\", metrics.mean_squared_error(y_true, ssd_detected))\n",
        "print(\"RMSE:\", metrics.mean_squared_error(y_true, ssd_detected, squared=False))\n",
        "print(\"MAE:\", metrics.mean_absolute_error(y_true, ssd_detected))\n",
        "\n",
        "print(\"HOG\")\n",
        "print(\"MSE:\", metrics.mean_squared_error(y_true, hog_detected))\n",
        "print(\"RMSE:\", metrics.mean_squared_error(y_true, hog_detected, squared=False))\n",
        "print(\"MAE:\", metrics.mean_absolute_error(y_true, hog_detected))\n",
        "\n",
        "\n",
        "print(\"YOLO\")\n",
        "print(\"MSE:\", metrics.mean_squared_error(y_true, yolo_detected))\n",
        "print(\"RMSE:\", metrics.mean_squared_error(y_true, yolo_detected, squared=False))\n",
        "print(\"MAE:\", metrics.mean_absolute_error(y_true, yolo_detected))\n"
      ],
      "metadata": {
        "colab": {
          "base_uri": "https://localhost:8080/"
        },
        "id": "lNNbl902OrNd",
        "outputId": "dab36936-a7d9-4588-e185-56b045520547"
      },
      "execution_count": null,
      "outputs": [
        {
          "output_type": "stream",
          "name": "stdout",
          "text": [
            "FASTER R-CNN\n",
            "MSE: 0.7615384615384615\n",
            "RMSE: 0.8726617108241094\n",
            "MAE: 0.5923076923076923\n",
            "SSD\n",
            "MSE: 7.6692307692307695\n",
            "RMSE: 2.769337604776776\n",
            "MAE: 1.9307692307692308\n",
            "HOG\n",
            "MSE: 2.2846153846153845\n",
            "RMSE: 1.5114944209673367\n",
            "MAE: 1.1307692307692307\n",
            "YOLO\n",
            "MSE: 0.2076923076923077\n",
            "RMSE: 0.45573271518765\n",
            "MAE: 0.2076923076923077\n"
          ]
        }
      ]
    },
    {
      "cell_type": "markdown",
      "source": [
        "# Analisis de los resultados"
      ],
      "metadata": {
        "id": "vB6TQeOD-pcO"
      }
    },
    {
      "cell_type": "code",
      "source": [
        "df = pd.DataFrame.from_records(tiempos)"
      ],
      "metadata": {
        "id": "8jlAovqltaWe"
      },
      "execution_count": null,
      "outputs": []
    },
    {
      "cell_type": "code",
      "source": [
        "kruscal = scipy.stats.kruskal(*[group[\"tiempo\"].values for name, group in df.groupby(\"nivel\")])\n",
        "kruscal"
      ],
      "metadata": {
        "colab": {
          "base_uri": "https://localhost:8080/"
        },
        "id": "1ySERVDXw9ek",
        "outputId": "9691e293-7906-4207-922b-15c1b061e8e9"
      },
      "execution_count": null,
      "outputs": [
        {
          "output_type": "execute_result",
          "data": {
            "text/plain": [
              "KruskalResult(statistic=472.47244818647556, pvalue=4.40510283190582e-102)"
            ]
          },
          "metadata": {},
          "execution_count": 38
        }
      ]
    },
    {
      "cell_type": "code",
      "source": [
        "kstest = scipy.stats.kstest(df[\"tiempo\"].values, 'norm')\n",
        "kstest"
      ],
      "metadata": {
        "colab": {
          "base_uri": "https://localhost:8080/"
        },
        "id": "r47csBQG8tEu",
        "outputId": "53374d2e-38f9-4d0b-db53-810de32d7672"
      },
      "execution_count": null,
      "outputs": [
        {
          "output_type": "execute_result",
          "data": {
            "text/plain": [
              "KstestResult(statistic=0.5078372779036344, pvalue=8.161267518928292e-125)"
            ]
          },
          "metadata": {},
          "execution_count": 39
        }
      ]
    },
    {
      "cell_type": "code",
      "source": [
        "f_oneway = scipy.stats.f_oneway(*[group[\"tiempo\"].values for name, group in df.groupby(\"nivel\")])\n",
        "f, p = f_oneway"
      ],
      "metadata": {
        "id": "zoVHcnTkJuC_"
      },
      "execution_count": null,
      "outputs": []
    },
    {
      "cell_type": "code",
      "source": [
        "%matplotlib inline\n",
        "data = np.array([group[\"tiempo\"].values for name, group in df.groupby(\"nivel\")])\n",
        "data = pd.DataFrame(data)\n",
        "data = [{name: group[\"tiempo\"].values}  for name, group in df.groupby(\"nivel\")]\n",
        "\n",
        "df2 = pd.DataFrame()\n",
        "for d in data:\n",
        "  for k, v in d.items():\n",
        "    df2[k] = v\n",
        "\n",
        "plt.plot(df2)\n",
        "plt.title(\"Tiempo total de inferencia\")\n",
        "plt.legend(list(df2.columns.values), bbox_to_anchor=(1.05, 1), loc=2, borderaxespad=0.)\n",
        "plt.show()"
      ],
      "metadata": {
        "colab": {
          "base_uri": "https://localhost:8080/",
          "height": 281
        },
        "id": "NYjIvBMwMH-O",
        "outputId": "07df7f7f-2a72-4fab-ffad-70b039bc4724"
      },
      "execution_count": null,
      "outputs": [
        {
          "output_type": "display_data",
          "data": {
            "image/png": "[encoded data removed]",
            "text/plain": [
              "<Figure size 432x288 with 1 Axes>"
            ]
          },
          "metadata": {
            "needs_background": "light"
          }
        }
      ]
    }
  ]
}