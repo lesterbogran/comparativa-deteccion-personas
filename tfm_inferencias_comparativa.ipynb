{
  "nbformat": 4,
  "nbformat_minor": 0,
  "metadata": {
    "colab": {
      "name": "tfm_inferencias_comparativa.ipynb",
      "provenance": [],
      "collapsed_sections": [],
      "machine_shape": "hm",
      "mount_file_id": "1usQdxw75BHWMO99mz9VW6btbDgkKsTI1",
      "authorship_tag": "ABX9TyPY4RQRuph1yfryniabwoAB",
      "include_colab_link": true
    },
    "kernelspec": {
      "name": "python3",
      "display_name": "Python 3"
    },
    "language_info": {
      "name": "python"
    },
    "accelerator": "GPU",
    "widgets": {
      "application/vnd.jupyter.widget-state+json": {
        "55c0ecd878194c4aa86bfc6b4463ca7e": {
          "model_module": "@jupyter-widgets/controls",
          "model_name": "HBoxModel",
          "model_module_version": "1.5.0",
          "state": {
            "_view_name": "HBoxView",
            "_dom_classes": [],
            "_model_name": "HBoxModel",
            "_view_module": "@jupyter-widgets/controls",
            "_model_module_version": "1.5.0",
            "_view_count": null,
            "_view_module_version": "1.5.0",
            "box_style": "",
            "layout": "IPY_MODEL_c3478347c31742f4a59706ad86ab2810",
            "_model_module": "@jupyter-widgets/controls",
            "children": [
              "IPY_MODEL_aca91c1bb3764817b907fca1a59fd005",
              "IPY_MODEL_1aadb650abc143c0ab646f1d52ae2b32",
              "IPY_MODEL_43e97b197aac4d9cae25c0e6913c80d0"
            ]
          }
        },
        "c3478347c31742f4a59706ad86ab2810": {
          "model_module": "@jupyter-widgets/base",
          "model_name": "LayoutModel",
          "model_module_version": "1.2.0",
          "state": {
            "_view_name": "LayoutView",
            "grid_template_rows": null,
            "right": null,
            "justify_content": null,
            "_view_module": "@jupyter-widgets/base",
            "overflow": null,
            "_model_module_version": "1.2.0",
            "_view_count": null,
            "flex_flow": null,
            "width": null,
            "min_width": null,
            "border": null,
            "align_items": null,
            "bottom": null,
            "_model_module": "@jupyter-widgets/base",
            "top": null,
            "grid_column": null,
            "overflow_y": null,
            "overflow_x": null,
            "grid_auto_flow": null,
            "grid_area": null,
            "grid_template_columns": null,
            "flex": null,
            "_model_name": "LayoutModel",
            "justify_items": null,
            "grid_row": null,
            "max_height": null,
            "align_content": null,
            "visibility": null,
            "align_self": null,
            "height": null,
            "min_height": null,
            "padding": null,
            "grid_auto_rows": null,
            "grid_gap": null,
            "max_width": null,
            "order": null,
            "_view_module_version": "1.2.0",
            "grid_template_areas": null,
            "object_position": null,
            "object_fit": null,
            "grid_auto_columns": null,
            "margin": null,
            "display": null,
            "left": null
          }
        },
        "aca91c1bb3764817b907fca1a59fd005": {
          "model_module": "@jupyter-widgets/controls",
          "model_name": "HTMLModel",
          "model_module_version": "1.5.0",
          "state": {
            "_view_name": "HTMLView",
            "style": "IPY_MODEL_2bf03097322c4bb78ee21503346935fa",
            "_dom_classes": [],
            "description": "",
            "_model_name": "HTMLModel",
            "placeholder": "​",
            "_view_module": "@jupyter-widgets/controls",
            "_model_module_version": "1.5.0",
            "value": "100%",
            "_view_count": null,
            "_view_module_version": "1.5.0",
            "description_tooltip": null,
            "_model_module": "@jupyter-widgets/controls",
            "layout": "IPY_MODEL_04a5319d37584828a9bb50a1f75a6f21"
          }
        },
        "1aadb650abc143c0ab646f1d52ae2b32": {
          "model_module": "@jupyter-widgets/controls",
          "model_name": "FloatProgressModel",
          "model_module_version": "1.5.0",
          "state": {
            "_view_name": "ProgressView",
            "style": "IPY_MODEL_bbee4611c7af422480ef86876a433149",
            "_dom_classes": [],
            "description": "",
            "_model_name": "FloatProgressModel",
            "bar_style": "success",
            "max": 14698491,
            "_view_module": "@jupyter-widgets/controls",
            "_model_module_version": "1.5.0",
            "value": 14698491,
            "_view_count": null,
            "_view_module_version": "1.5.0",
            "orientation": "horizontal",
            "min": 0,
            "description_tooltip": null,
            "_model_module": "@jupyter-widgets/controls",
            "layout": "IPY_MODEL_f09302ee83834aff8c1c6fb4e3506aaa"
          }
        },
        "43e97b197aac4d9cae25c0e6913c80d0": {
          "model_module": "@jupyter-widgets/controls",
          "model_name": "HTMLModel",
          "model_module_version": "1.5.0",
          "state": {
            "_view_name": "HTMLView",
            "style": "IPY_MODEL_e884875b609c40df83ba2071ef1c484f",
            "_dom_classes": [],
            "description": "",
            "_model_name": "HTMLModel",
            "placeholder": "​",
            "_view_module": "@jupyter-widgets/controls",
            "_model_module_version": "1.5.0",
            "value": " 14.0M/14.0M [00:00&lt;00:00, 16.1MB/s]",
            "_view_count": null,
            "_view_module_version": "1.5.0",
            "description_tooltip": null,
            "_model_module": "@jupyter-widgets/controls",
            "layout": "IPY_MODEL_c1e2ac382f484cfb8bf4f68ec45c524e"
          }
        },
        "2bf03097322c4bb78ee21503346935fa": {
          "model_module": "@jupyter-widgets/controls",
          "model_name": "DescriptionStyleModel",
          "model_module_version": "1.5.0",
          "state": {
            "_view_name": "StyleView",
            "_model_name": "DescriptionStyleModel",
            "description_width": "",
            "_view_module": "@jupyter-widgets/base",
            "_model_module_version": "1.5.0",
            "_view_count": null,
            "_view_module_version": "1.2.0",
            "_model_module": "@jupyter-widgets/controls"
          }
        },
        "04a5319d37584828a9bb50a1f75a6f21": {
          "model_module": "@jupyter-widgets/base",
          "model_name": "LayoutModel",
          "model_module_version": "1.2.0",
          "state": {
            "_view_name": "LayoutView",
            "grid_template_rows": null,
            "right": null,
            "justify_content": null,
            "_view_module": "@jupyter-widgets/base",
            "overflow": null,
            "_model_module_version": "1.2.0",
            "_view_count": null,
            "flex_flow": null,
            "width": null,
            "min_width": null,
            "border": null,
            "align_items": null,
            "bottom": null,
            "_model_module": "@jupyter-widgets/base",
            "top": null,
            "grid_column": null,
            "overflow_y": null,
            "overflow_x": null,
            "grid_auto_flow": null,
            "grid_area": null,
            "grid_template_columns": null,
            "flex": null,
            "_model_name": "LayoutModel",
            "justify_items": null,
            "grid_row": null,
            "max_height": null,
            "align_content": null,
            "visibility": null,
            "align_self": null,
            "height": null,
            "min_height": null,
            "padding": null,
            "grid_auto_rows": null,
            "grid_gap": null,
            "max_width": null,
            "order": null,
            "_view_module_version": "1.2.0",
            "grid_template_areas": null,
            "object_position": null,
            "object_fit": null,
            "grid_auto_columns": null,
            "margin": null,
            "display": null,
            "left": null
          }
        },
        "bbee4611c7af422480ef86876a433149": {
          "model_module": "@jupyter-widgets/controls",
          "model_name": "ProgressStyleModel",
          "model_module_version": "1.5.0",
          "state": {
            "_view_name": "StyleView",
            "_model_name": "ProgressStyleModel",
            "description_width": "",
            "_view_module": "@jupyter-widgets/base",
            "_model_module_version": "1.5.0",
            "_view_count": null,
            "_view_module_version": "1.2.0",
            "bar_color": null,
            "_model_module": "@jupyter-widgets/controls"
          }
        },
        "f09302ee83834aff8c1c6fb4e3506aaa": {
          "model_module": "@jupyter-widgets/base",
          "model_name": "LayoutModel",
          "model_module_version": "1.2.0",
          "state": {
            "_view_name": "LayoutView",
            "grid_template_rows": null,
            "right": null,
            "justify_content": null,
            "_view_module": "@jupyter-widgets/base",
            "overflow": null,
            "_model_module_version": "1.2.0",
            "_view_count": null,
            "flex_flow": null,
            "width": null,
            "min_width": null,
            "border": null,
            "align_items": null,
            "bottom": null,
            "_model_module": "@jupyter-widgets/base",
            "top": null,
            "grid_column": null,
            "overflow_y": null,
            "overflow_x": null,
            "grid_auto_flow": null,
            "grid_area": null,
            "grid_template_columns": null,
            "flex": null,
            "_model_name": "LayoutModel",
            "justify_items": null,
            "grid_row": null,
            "max_height": null,
            "align_content": null,
            "visibility": null,
            "align_self": null,
            "height": null,
            "min_height": null,
            "padding": null,
            "grid_auto_rows": null,
            "grid_gap": null,
            "max_width": null,
            "order": null,
            "_view_module_version": "1.2.0",
            "grid_template_areas": null,
            "object_position": null,
            "object_fit": null,
            "grid_auto_columns": null,
            "margin": null,
            "display": null,
            "left": null
          }
        },
        "e884875b609c40df83ba2071ef1c484f": {
          "model_module": "@jupyter-widgets/controls",
          "model_name": "DescriptionStyleModel",
          "model_module_version": "1.5.0",
          "state": {
            "_view_name": "StyleView",
            "_model_name": "DescriptionStyleModel",
            "description_width": "",
            "_view_module": "@jupyter-widgets/base",
            "_model_module_version": "1.5.0",
            "_view_count": null,
            "_view_module_version": "1.2.0",
            "_model_module": "@jupyter-widgets/controls"
          }
        },
        "c1e2ac382f484cfb8bf4f68ec45c524e": {
          "model_module": "@jupyter-widgets/base",
          "model_name": "LayoutModel",
          "model_module_version": "1.2.0",
          "state": {
            "_view_name": "LayoutView",
            "grid_template_rows": null,
            "right": null,
            "justify_content": null,
            "_view_module": "@jupyter-widgets/base",
            "overflow": null,
            "_model_module_version": "1.2.0",
            "_view_count": null,
            "flex_flow": null,
            "width": null,
            "min_width": null,
            "border": null,
            "align_items": null,
            "bottom": null,
            "_model_module": "@jupyter-widgets/base",
            "top": null,
            "grid_column": null,
            "overflow_y": null,
            "overflow_x": null,
            "grid_auto_flow": null,
            "grid_area": null,
            "grid_template_columns": null,
            "flex": null,
            "_model_name": "LayoutModel",
            "justify_items": null,
            "grid_row": null,
            "max_height": null,
            "align_content": null,
            "visibility": null,
            "align_self": null,
            "height": null,
            "min_height": null,
            "padding": null,
            "grid_auto_rows": null,
            "grid_gap": null,
            "max_width": null,
            "order": null,
            "_view_module_version": "1.2.0",
            "grid_template_areas": null,
            "object_position": null,
            "object_fit": null,
            "grid_auto_columns": null,
            "margin": null,
            "display": null,
            "left": null
          }
        }
      }
    }
  },
  "cells": [
    {
      "cell_type": "markdown",
      "metadata": {
        "id": "view-in-github",
        "colab_type": "text"
      },
      "source": [
        "<a href=\"https://colab.research.google.com/github/lesterbogran/comparativa-deteccion-personas/blob/main/tfm_inferencias_comparativa.ipynb\" target=\"_parent\"><img src=\"https://colab.research.google.com/assets/colab-badge.svg\" alt=\"Open In Colab\"/></a>"
      ]
    },
    {
      "cell_type": "markdown",
      "source": [
        "Descarga y preparación del dataset"
      ],
      "metadata": {
        "id": "b8_G7VMly78e"
      }
    },
    {
      "cell_type": "code",
      "source": [
        "# descarga del dataset esto puede tomar unos 15-20 minutos\n",
        "!wget  https://data.4tu.nl/ndownloader/files/24070793"
      ],
      "metadata": {
        "id": "bbA3SPcjy7Xa",
        "outputId": "dbb5fb4f-e004-4950-be27-a0ed454dd19a",
        "colab": {
          "base_uri": "https://localhost:8080/"
        }
      },
      "execution_count": null,
      "outputs": [
        {
          "output_type": "stream",
          "name": "stdout",
          "text": [
            "--2022-02-09 02:44:23--  https://data.4tu.nl/ndownloader/files/24070793\n",
            "Resolving data.4tu.nl (data.4tu.nl)... 131.180.141.15\n",
            "Connecting to data.4tu.nl (data.4tu.nl)|131.180.141.15|:443... connected.\n",
            "HTTP request sent, awaiting response... 200 OK\n",
            "Length: unspecified [application/zip]\n",
            "Saving to: ‘24070793’\n",
            "\n",
            "24070793                [<=>                 ]   9.98G  11.2MB/s    in 16m 52s \n",
            "\n",
            "2022-02-09 03:01:16 (10.1 MB/s) - ‘24070793’ saved [10713417760]\n",
            "\n"
          ]
        }
      ]
    },
    {
      "cell_type": "code",
      "source": [
        "# descompresion del dataset esto puede tomar unos 4-6 minutos\n",
        "!unzip -qq ./24070793 \n",
        "!ls"
      ],
      "metadata": {
        "colab": {
          "base_uri": "https://localhost:8080/"
        },
        "id": "051_7VLuzKOv",
        "outputId": "99d8f528-b1da-4f59-a11f-c24256ca0b68"
      },
      "execution_count": null,
      "outputs": [
        {
          "output_type": "stream",
          "name": "stdout",
          "text": [
            "24070793  sample_data  wisenet_dataset\n"
          ]
        }
      ]
    },
    {
      "cell_type": "code",
      "source": [
        "import cv2\n",
        "import os\n",
        "import json\n",
        "import pandas as pd\n",
        "# Para ordenar aleatoriamente los datos\n",
        "import random"
      ],
      "metadata": {
        "id": "DWnOZrc-ziy5"
      },
      "execution_count": null,
      "outputs": []
    },
    {
      "cell_type": "code",
      "source": [
        "# distribución original del dataset wisenet\n",
        "sets = 11\n",
        "detection_dir ='wisenet_dataset/manual_annotations/people_detection/set_'\n",
        "video_dir = 'wisenet_dataset/video_sets/set_'\n",
        "image_dataset_dir = 'wisenet_img_dataset'"
      ],
      "metadata": {
        "id": "EsP_Igyjzji6"
      },
      "execution_count": null,
      "outputs": []
    },
    {
      "cell_type": "code",
      "source": [
        "# crear el directorio donde se guardaran las imágenes\n",
        "!mkdir wisenet_img_dataset"
      ],
      "metadata": {
        "id": "lcP3ggmmDpjD"
      },
      "execution_count": null,
      "outputs": []
    },
    {
      "cell_type": "code",
      "source": [
        "# creacion de un unico archivo json para guardar la meta información\n",
        "for i in range(1, sets+1):\n",
        "  files = os.listdir(detection_dir+str(i))\n",
        "  for f in files:\n",
        "    f_json =  detection_dir+str(i)+\"/\"+f\n",
        "    with open(f_json, \"r\") as ans:\n",
        "      an = json.load(ans)\n",
        "      resolution = an[\"resolution\"][0]"
      ],
      "metadata": {
        "id": "B_baM5Ehztba"
      },
      "execution_count": null,
      "outputs": []
    },
    {
      "cell_type": "code",
      "source": [
        "# función para generar las imágenes a partir de un video\n",
        "def generate_images(base_dir, tags, video, set_id, video_id):\n",
        "  f_json = open(tags)\n",
        "  annotations = json.load(f_json)\n",
        "  f_json.close()\n",
        "  frames = annotations[\"frames\"]\n",
        "  resolution = annotations[\"resolution\"][0]\n",
        "  vidCap = cv2.VideoCapture(video)  \n",
        "  f = -1\n",
        "  list_frames =[]\n",
        "  #success,image = vidCap.read()\n",
        "  for frame in frames:\n",
        "    fm = int(frame['frameNumber'])\n",
        "\n",
        "    while f < fm: \n",
        "      success,image = vidCap.read()\n",
        "      f +=1\n",
        "    img_name = \"image_video%d_%d_%d.jpg\" %  (set_id, video_id, fm)\n",
        "    cv2.imwrite(\"%s/%s\" % (base_dir, img_name), image)\n",
        "\n",
        "    dict_an = {}\n",
        "    dict_an['image'] =  img_name\n",
        "    dict_an['people'] = [(x['xywh'][0], x['xywh'][1], \n",
        "                          x['xywh'][0] + x['xywh'][2], x['xywh'][1] + x['xywh'][3])    \n",
        "                         for x in frame['detections'] if x['class'] == 'person']\n",
        "    dict_an['total'] = len(dict_an['people'])\n",
        "    dict_an['resolution'] = resolution\n",
        "    list_frames.append(dict_an)\n",
        "\n",
        "  return list_frames"
      ],
      "metadata": {
        "id": "qhlyz4tSzyXr"
      },
      "execution_count": null,
      "outputs": []
    },
    {
      "cell_type": "code",
      "source": [
        "# procesamiento de los videos para extraer las imágenes\n",
        "# 12 - 15 minutos\n",
        "list_frames = []\n",
        "for i in range(1, sets+1):\n",
        "  ad = os.listdir(detection_dir+str(i))\n",
        "  vd = os.listdir(video_dir+str(i))\n",
        "  #print(vd)\n",
        "  for j in range(1,len(vd)+1): \n",
        "     a = \"%s%d/video%d_%d.json\" % (detection_dir, i, i, j)\n",
        "     v = \"%s%d/video%d_%d.avi\" % (video_dir, i, i, j)\n",
        "     print(a)\n",
        "     print(v)\n",
        "     frames = generate_images(image_dataset_dir, a, v, i, j)\n",
        "     print(len(frames), \"frames procesados\")\n",
        "     list_frames = list_frames + frames"
      ],
      "metadata": {
        "colab": {
          "base_uri": "https://localhost:8080/"
        },
        "id": "ewP8jR_pzzHU",
        "outputId": "4d96b858-804f-4bb2-bb3d-2c09ab9c97d5"
      },
      "execution_count": null,
      "outputs": [
        {
          "output_type": "stream",
          "name": "stdout",
          "text": [
            "wisenet_dataset/manual_annotations/people_detection/set_1/video1_1.json\n",
            "wisenet_dataset/video_sets/set_1/video1_1.avi\n",
            "140 frames procesados\n",
            "wisenet_dataset/manual_annotations/people_detection/set_1/video1_2.json\n",
            "wisenet_dataset/video_sets/set_1/video1_2.avi\n",
            "895 frames procesados\n",
            "wisenet_dataset/manual_annotations/people_detection/set_1/video1_3.json\n",
            "wisenet_dataset/video_sets/set_1/video1_3.avi\n",
            "450 frames procesados\n",
            "wisenet_dataset/manual_annotations/people_detection/set_1/video1_4.json\n",
            "wisenet_dataset/video_sets/set_1/video1_4.avi\n",
            "1746 frames procesados\n",
            "wisenet_dataset/manual_annotations/people_detection/set_1/video1_5.json\n",
            "wisenet_dataset/video_sets/set_1/video1_5.avi\n",
            "1749 frames procesados\n",
            "wisenet_dataset/manual_annotations/people_detection/set_2/video2_1.json\n",
            "wisenet_dataset/video_sets/set_2/video2_1.avi\n",
            "415 frames procesados\n",
            "wisenet_dataset/manual_annotations/people_detection/set_2/video2_2.json\n",
            "wisenet_dataset/video_sets/set_2/video2_2.avi\n",
            "1469 frames procesados\n",
            "wisenet_dataset/manual_annotations/people_detection/set_2/video2_3.json\n",
            "wisenet_dataset/video_sets/set_2/video2_3.avi\n",
            "750 frames procesados\n",
            "wisenet_dataset/manual_annotations/people_detection/set_2/video2_4.json\n",
            "wisenet_dataset/video_sets/set_2/video2_4.avi\n",
            "3553 frames procesados\n",
            "wisenet_dataset/manual_annotations/people_detection/set_2/video2_5.json\n",
            "wisenet_dataset/video_sets/set_2/video2_5.avi\n",
            "1453 frames procesados\n",
            "wisenet_dataset/manual_annotations/people_detection/set_3/video3_1.json\n",
            "wisenet_dataset/video_sets/set_3/video3_1.avi\n",
            "569 frames procesados\n",
            "wisenet_dataset/manual_annotations/people_detection/set_3/video3_2.json\n",
            "wisenet_dataset/video_sets/set_3/video3_2.avi\n",
            "1977 frames procesados\n",
            "wisenet_dataset/manual_annotations/people_detection/set_3/video3_3.json\n",
            "wisenet_dataset/video_sets/set_3/video3_3.avi\n",
            "1110 frames procesados\n",
            "wisenet_dataset/manual_annotations/people_detection/set_3/video3_4.json\n",
            "wisenet_dataset/video_sets/set_3/video3_4.avi\n",
            "1403 frames procesados\n",
            "wisenet_dataset/manual_annotations/people_detection/set_3/video3_5.json\n",
            "wisenet_dataset/video_sets/set_3/video3_5.avi\n",
            "1428 frames procesados\n",
            "wisenet_dataset/manual_annotations/people_detection/set_4/video4_1.json\n",
            "wisenet_dataset/video_sets/set_4/video4_1.avi\n",
            "445 frames procesados\n",
            "wisenet_dataset/manual_annotations/people_detection/set_4/video4_2.json\n",
            "wisenet_dataset/video_sets/set_4/video4_2.avi\n",
            "2480 frames procesados\n",
            "wisenet_dataset/manual_annotations/people_detection/set_4/video4_3.json\n",
            "wisenet_dataset/video_sets/set_4/video4_3.avi\n",
            "1890 frames procesados\n",
            "wisenet_dataset/manual_annotations/people_detection/set_4/video4_4.json\n",
            "wisenet_dataset/video_sets/set_4/video4_4.avi\n",
            "7153 frames procesados\n",
            "wisenet_dataset/manual_annotations/people_detection/set_4/video4_5.json\n",
            "wisenet_dataset/video_sets/set_4/video4_5.avi\n",
            "2841 frames procesados\n",
            "wisenet_dataset/manual_annotations/people_detection/set_5/video5_1.json\n",
            "wisenet_dataset/video_sets/set_5/video5_1.avi\n",
            "390 frames procesados\n",
            "wisenet_dataset/manual_annotations/people_detection/set_5/video5_2.json\n",
            "wisenet_dataset/video_sets/set_5/video5_2.avi\n",
            "785 frames procesados\n",
            "wisenet_dataset/manual_annotations/people_detection/set_5/video5_3.json\n",
            "wisenet_dataset/video_sets/set_5/video5_3.avi\n",
            "485 frames procesados\n",
            "wisenet_dataset/manual_annotations/people_detection/set_5/video5_4.json\n",
            "wisenet_dataset/video_sets/set_5/video5_4.avi\n",
            "455 frames procesados\n",
            "wisenet_dataset/manual_annotations/people_detection/set_5/video5_5.json\n",
            "wisenet_dataset/video_sets/set_5/video5_5.avi\n",
            "540 frames procesados\n",
            "wisenet_dataset/manual_annotations/people_detection/set_5/video5_6.json\n",
            "wisenet_dataset/video_sets/set_5/video5_6.avi\n",
            "0 frames procesados\n",
            "wisenet_dataset/manual_annotations/people_detection/set_6/video6_1.json\n",
            "wisenet_dataset/video_sets/set_6/video6_1.avi\n",
            "210 frames procesados\n",
            "wisenet_dataset/manual_annotations/people_detection/set_6/video6_2.json\n",
            "wisenet_dataset/video_sets/set_6/video6_2.avi\n",
            "995 frames procesados\n",
            "wisenet_dataset/manual_annotations/people_detection/set_6/video6_3.json\n",
            "wisenet_dataset/video_sets/set_6/video6_3.avi\n",
            "0 frames procesados\n",
            "wisenet_dataset/manual_annotations/people_detection/set_6/video6_4.json\n",
            "wisenet_dataset/video_sets/set_6/video6_4.avi\n",
            "1000 frames procesados\n",
            "wisenet_dataset/manual_annotations/people_detection/set_6/video6_5.json\n",
            "wisenet_dataset/video_sets/set_6/video6_5.avi\n",
            "1000 frames procesados\n",
            "wisenet_dataset/manual_annotations/people_detection/set_6/video6_6.json\n",
            "wisenet_dataset/video_sets/set_6/video6_6.avi\n",
            "0 frames procesados\n",
            "wisenet_dataset/manual_annotations/people_detection/set_7/video7_1.json\n",
            "wisenet_dataset/video_sets/set_7/video7_1.avi\n",
            "375 frames procesados\n",
            "wisenet_dataset/manual_annotations/people_detection/set_7/video7_2.json\n",
            "wisenet_dataset/video_sets/set_7/video7_2.avi\n",
            "629 frames procesados\n",
            "wisenet_dataset/manual_annotations/people_detection/set_7/video7_3.json\n",
            "wisenet_dataset/video_sets/set_7/video7_3.avi\n",
            "45 frames procesados\n",
            "wisenet_dataset/manual_annotations/people_detection/set_7/video7_4.json\n",
            "wisenet_dataset/video_sets/set_7/video7_4.avi\n",
            "1000 frames procesados\n",
            "wisenet_dataset/manual_annotations/people_detection/set_7/video7_5.json\n",
            "wisenet_dataset/video_sets/set_7/video7_5.avi\n",
            "1000 frames procesados\n",
            "wisenet_dataset/manual_annotations/people_detection/set_7/video7_6.json\n",
            "wisenet_dataset/video_sets/set_7/video7_6.avi\n",
            "0 frames procesados\n",
            "wisenet_dataset/manual_annotations/people_detection/set_8/video8_1.json\n",
            "wisenet_dataset/video_sets/set_8/video8_1.avi\n",
            "75 frames procesados\n",
            "wisenet_dataset/manual_annotations/people_detection/set_8/video8_2.json\n",
            "wisenet_dataset/video_sets/set_8/video8_2.avi\n",
            "1000 frames procesados\n",
            "wisenet_dataset/manual_annotations/people_detection/set_8/video8_3.json\n",
            "wisenet_dataset/video_sets/set_8/video8_3.avi\n",
            "0 frames procesados\n",
            "wisenet_dataset/manual_annotations/people_detection/set_8/video8_4.json\n",
            "wisenet_dataset/video_sets/set_8/video8_4.avi\n",
            "1000 frames procesados\n",
            "wisenet_dataset/manual_annotations/people_detection/set_8/video8_5.json\n",
            "wisenet_dataset/video_sets/set_8/video8_5.avi\n",
            "865 frames procesados\n",
            "wisenet_dataset/manual_annotations/people_detection/set_8/video8_6.json\n",
            "wisenet_dataset/video_sets/set_8/video8_6.avi\n",
            "0 frames procesados\n",
            "wisenet_dataset/manual_annotations/people_detection/set_9/video9_1.json\n",
            "wisenet_dataset/video_sets/set_9/video9_1.avi\n",
            "0 frames procesados\n",
            "wisenet_dataset/manual_annotations/people_detection/set_9/video9_2.json\n",
            "wisenet_dataset/video_sets/set_9/video9_2.avi\n",
            "0 frames procesados\n",
            "wisenet_dataset/manual_annotations/people_detection/set_9/video9_3.json\n",
            "wisenet_dataset/video_sets/set_9/video9_3.avi\n",
            "0 frames procesados\n",
            "wisenet_dataset/manual_annotations/people_detection/set_9/video9_4.json\n",
            "wisenet_dataset/video_sets/set_9/video9_4.avi\n",
            "1000 frames procesados\n",
            "wisenet_dataset/manual_annotations/people_detection/set_9/video9_5.json\n",
            "wisenet_dataset/video_sets/set_9/video9_5.avi\n",
            "1000 frames procesados\n",
            "wisenet_dataset/manual_annotations/people_detection/set_9/video9_6.json\n",
            "wisenet_dataset/video_sets/set_9/video9_6.avi\n",
            "0 frames procesados\n",
            "wisenet_dataset/manual_annotations/people_detection/set_10/video10_1.json\n",
            "wisenet_dataset/video_sets/set_10/video10_1.avi\n",
            "0 frames procesados\n",
            "wisenet_dataset/manual_annotations/people_detection/set_10/video10_2.json\n",
            "wisenet_dataset/video_sets/set_10/video10_2.avi\n",
            "1000 frames procesados\n",
            "wisenet_dataset/manual_annotations/people_detection/set_10/video10_3.json\n",
            "wisenet_dataset/video_sets/set_10/video10_3.avi\n",
            "0 frames procesados\n",
            "wisenet_dataset/manual_annotations/people_detection/set_10/video10_4.json\n",
            "wisenet_dataset/video_sets/set_10/video10_4.avi\n",
            "1000 frames procesados\n",
            "wisenet_dataset/manual_annotations/people_detection/set_10/video10_5.json\n",
            "wisenet_dataset/video_sets/set_10/video10_5.avi\n",
            "1000 frames procesados\n",
            "wisenet_dataset/manual_annotations/people_detection/set_10/video10_6.json\n",
            "wisenet_dataset/video_sets/set_10/video10_6.avi\n",
            "0 frames procesados\n",
            "wisenet_dataset/manual_annotations/people_detection/set_11/video11_1.json\n",
            "wisenet_dataset/video_sets/set_11/video11_1.avi\n",
            "415 frames procesados\n",
            "wisenet_dataset/manual_annotations/people_detection/set_11/video11_2.json\n",
            "wisenet_dataset/video_sets/set_11/video11_2.avi\n",
            "760 frames procesados\n",
            "wisenet_dataset/manual_annotations/people_detection/set_11/video11_3.json\n",
            "wisenet_dataset/video_sets/set_11/video11_3.avi\n",
            "440 frames procesados\n",
            "wisenet_dataset/manual_annotations/people_detection/set_11/video11_4.json\n",
            "wisenet_dataset/video_sets/set_11/video11_4.avi\n",
            "510 frames procesados\n",
            "wisenet_dataset/manual_annotations/people_detection/set_11/video11_5.json\n",
            "wisenet_dataset/video_sets/set_11/video11_5.avi\n",
            "590 frames procesados\n",
            "wisenet_dataset/manual_annotations/people_detection/set_11/video11_6.json\n",
            "wisenet_dataset/video_sets/set_11/video11_6.avi\n",
            "0 frames procesados\n"
          ]
        }
      ]
    },
    {
      "cell_type": "code",
      "metadata": {
        "id": "tjrPBfbNcxil"
      },
      "source": [
        "# reordenar las imagenes de forma aleatoria \n",
        "ground_truth = list_frames\n",
        "random.shuffle(ground_truth)\n",
        "# incluir solo las imagenes de una misma resolucion \n",
        "ground_truth = [gt for gt in ground_truth if gt['resolution'] == {'height': 720.0, 'width': 1280.0}]"
      ],
      "execution_count": null,
      "outputs": []
    },
    {
      "cell_type": "markdown",
      "metadata": {
        "id": "La3u7lA843MV"
      },
      "source": [
        "# Prueba de modelos entrenados entrenados con coco "
      ]
    },
    {
      "cell_type": "code",
      "metadata": {
        "id": "ZvkxKTUQ4jW2"
      },
      "source": [
        "# Necesario para cargar modelos desde TF-Hub module y hacer las inferencias.\n",
        "import tensorflow as tf\n",
        "import tensorflow_hub as hub\n",
        "\n",
        "# Para algunas utilidades que permitan mostrar imagenes con sus detecciones \n",
        "import numpy as np\n",
        "from PIL import Image\n",
        "from PIL import ImageColor\n",
        "from PIL import ImageDraw\n",
        "from PIL import ImageFont\n",
        "from PIL import ImageOps\n",
        "from six import BytesIO\n",
        "\n",
        "# para el manejo de los datos\n",
        "import pandas as pd\n",
        "\n",
        "# para funciones estadisticas \n",
        "from scipy import stats\n",
        "import scipy\n",
        "import matplotlib.pyplot as plt\n",
        "%matplotlib inline\n",
        "#import statsmodels.graphics.gofplots as sm\n",
        "\n",
        "# necesarios para la deteccion con HOG\n",
        "import cv2\n",
        "\n",
        "# Para cargar las anotaciones en formato json \n",
        "import json\n",
        "\n",
        "# Para medir el tiempo de la inferencia \n",
        "import time\n",
        "\n",
        "# para acceder a torch hub y descargar yolov5\n",
        "import torch"
      ],
      "execution_count": null,
      "outputs": []
    },
    {
      "cell_type": "code",
      "metadata": {
        "id": "D0L93mymKYnk"
      },
      "source": [
        "# diccionario con los identificadores y clases del dataset coco\n",
        "category_index = {\n",
        "    1: {'id': 1, 'name': 'person'}, 2: {'id': 2, 'name': 'bicycle'}, \n",
        "    3: {'id': 3, 'name': 'car'}, 4: {'id': 4, 'name': 'motorcycle'}, \n",
        "    5: {'id': 5, 'name': 'airplane'}, 6: {'id': 6, 'name': 'bus'}, \n",
        "    7: {'id': 7, 'name': 'train'}, 8: {'id': 8, 'name': 'truck'}, \n",
        "    9: {'id': 9, 'name': 'boat'}, 10: {'id': 10, 'name': 'traffic light'}, \n",
        "    11: {'id': 11, 'name': 'fire hydrant'}, 13: {'id': 13, 'name': 'stop sign'}, \n",
        "    14: {'id': 14, 'name': 'parking meter'}, 15: {'id': 15, 'name': 'bench'}, \n",
        "    16: {'id': 16, 'name': 'bird'}, 17: {'id': 17, 'name': 'cat'},\n",
        "    18: {'id': 18, 'name': 'dog'}, 19: {'id': 19, 'name': 'horse'}, \n",
        "    20: {'id': 20, 'name': 'sheep'}, 21: {'id': 21, 'name': 'cow'}, \n",
        "    22: {'id': 22, 'name': 'elephant'}, 23: {'id': 23, 'name': 'bear'}, \n",
        "    24: {'id': 24, 'name': 'zebra'}, 25: {'id': 25, 'name': 'giraffe'}, \n",
        "    27: {'id': 27, 'name': 'backpack'}, 28: {'id': 28, 'name': 'umbrella'}, \n",
        "    31: {'id': 31, 'name': 'handbag'}, 32: {'id': 32, 'name': 'tie'}, \n",
        "    33: {'id': 33, 'name': 'suitcase'}, 34: {'id': 34, 'name': 'frisbee'}, \n",
        "    35: {'id': 35, 'name': 'skis'}, 36: {'id': 36, 'name': 'snowboard'}, \n",
        "    37: {'id': 37, 'name': 'sports ball'}, 38: {'id': 38, 'name': 'kite'}, \n",
        "    39: {'id': 39, 'name': 'baseball bat'}, 40: {'id': 40, 'name': 'baseball glove'}, \n",
        "    41: {'id': 41, 'name': 'skateboard'}, 42: {'id': 42, 'name': 'surfboard'}, \n",
        "    43: {'id': 43, 'name': 'tennis racket'}, 44: {'id': 44, 'name': 'bottle'}, \n",
        "    46: {'id': 46, 'name': 'wine glass'}, 47: {'id': 47, 'name': 'cup'}, \n",
        "    48: {'id': 48, 'name': 'fork'}, 49: {'id': 49, 'name': 'knife'}, \n",
        "    50: {'id': 50, 'name': 'spoon'}, 51: {'id': 51, 'name': 'bowl'},\n",
        "    52: {'id': 52, 'name': 'banana'}, 53: {'id': 53, 'name': 'apple'}, \n",
        "    54: {'id': 54, 'name': 'sandwich'}, 55: {'id': 55, 'name': 'orange'}, \n",
        "    56: {'id': 56, 'name': 'broccoli'}, 57: {'id': 57, 'name': 'carrot'}, \n",
        "    58: {'id': 58, 'name': 'hot dog'}, 59: {'id': 59, 'name': 'pizza'}, \n",
        "    60: {'id': 60, 'name': 'donut'}, 61: {'id': 61, 'name': 'cake'}, \n",
        "    62: {'id': 62, 'name': 'chair'}, 63: {'id': 63, 'name': 'couch'}, \n",
        "    64: {'id': 64, 'name': 'potted plant'}, 65: {'id': 65, 'name': 'bed'}, \n",
        "    67: {'id': 67, 'name': 'dining table'}, 70: {'id': 70, 'name': 'toilet'}, \n",
        "    72: {'id': 72, 'name': 'tv'}, 73: {'id': 73, 'name': 'laptop'}, \n",
        "    74: {'id': 74, 'name': 'mouse'}, 75: {'id': 75, 'name': 'remote'}, \n",
        "    76: {'id': 76, 'name': 'keyboard'}, 77: {'id': 77, 'name': 'cell phone'}, \n",
        "    78: {'id': 78, 'name': 'microwave'}, 79: {'id': 79, 'name': 'oven'}, \n",
        "    80: {'id': 80, 'name': 'toaster'}, 81: {'id': 81, 'name': 'sink'}, \n",
        "    82: {'id': 82, 'name': 'refrigerator'}, \n",
        "    84: {'id': 84, 'name': 'book'}, 85: {'id': 85, 'name': 'clock'}, \n",
        "    86: {'id': 86, 'name': 'vase'}, 87: {'id': 87, 'name': 'scissors'}, \n",
        "    88: {'id': 88, 'name': 'teddy bear'}, 89: {'id': 89, 'name': 'hair drier'}, \n",
        "    90: {'id': 90, 'name': 'toothbrush'}}"
      ],
      "execution_count": null,
      "outputs": []
    },
    {
      "cell_type": "code",
      "metadata": {
        "id": "SgusKjkIOLhl"
      },
      "source": [
        "# Carga del modelo Faster R-CNN\n",
        "faster_rcnn_url = \"https://tfhub.dev/tensorflow/faster_rcnn/resnet152_v1_640x640/1\"\n",
        "faster_rcnn = hub.load(faster_rcnn_url)"
      ],
      "execution_count": null,
      "outputs": []
    },
    {
      "cell_type": "code",
      "metadata": {
        "id": "f7XbBQRFOVNE"
      },
      "source": [
        "# Carga del modelo SSD\n",
        "ssd_url = \"https://tfhub.dev/tensorflow/retinanet/resnet101_v1_fpn_640x640/1\"\n",
        "ssd = hub.load(ssd_url)"
      ],
      "execution_count": null,
      "outputs": []
    },
    {
      "cell_type": "code",
      "metadata": {
        "id": "HYG5yU2o4-nJ"
      },
      "source": [
        "# Carga del modelo HOG\n",
        "hog = cv2.HOGDescriptor()\n",
        "hog.setSVMDetector(cv2.HOGDescriptor_getDefaultPeopleDetector())"
      ],
      "execution_count": null,
      "outputs": []
    },
    {
      "cell_type": "code",
      "metadata": {
        "colab": {
          "base_uri": "https://localhost:8080/",
          "height": 101,
          "referenced_widgets": [
            "55c0ecd878194c4aa86bfc6b4463ca7e",
            "c3478347c31742f4a59706ad86ab2810",
            "aca91c1bb3764817b907fca1a59fd005",
            "1aadb650abc143c0ab646f1d52ae2b32",
            "43e97b197aac4d9cae25c0e6913c80d0",
            "2bf03097322c4bb78ee21503346935fa",
            "04a5319d37584828a9bb50a1f75a6f21",
            "bbee4611c7af422480ef86876a433149",
            "f09302ee83834aff8c1c6fb4e3506aaa",
            "e884875b609c40df83ba2071ef1c484f",
            "c1e2ac382f484cfb8bf4f68ec45c524e"
          ]
        },
        "id": "oLxgxTUxOhpp",
        "outputId": "d2361512-5625-4c3b-c30e-b16597699e3e"
      },
      "source": [
        "# carga del modelo YOLO\n",
        "yolo = torch.hub.load('ultralytics/yolov5', 'yolov5s')\n",
        "yolo.classes = [0] # solo nos interesa detectar la clase persona"
      ],
      "execution_count": null,
      "outputs": [
        {
          "output_type": "stream",
          "name": "stderr",
          "text": [
            "Downloading: \"https://github.com/ultralytics/yolov5/archive/master.zip\" to /root/.cache/torch/hub/master.zip\n"
          ]
        },
        {
          "output_type": "stream",
          "name": "stdout",
          "text": [
            "Downloading https://github.com/ultralytics/yolov5/releases/download/v6.0/yolov5s.pt to yolov5s.pt...\n"
          ]
        },
        {
          "output_type": "display_data",
          "data": {
            "application/vnd.jupyter.widget-view+json": {
              "model_id": "55c0ecd878194c4aa86bfc6b4463ca7e",
              "version_minor": 0,
              "version_major": 2
            },
            "text/plain": [
              "  0%|          | 0.00/14.0M [00:00<?, ?B/s]"
            ]
          },
          "metadata": {}
        },
        {
          "output_type": "stream",
          "name": "stdout",
          "text": [
            "\n"
          ]
        }
      ]
    },
    {
      "cell_type": "code",
      "metadata": {
        "id": "JPugPXK064FI"
      },
      "source": [
        "# Método que permite mostar una imagen\n",
        "def display_image(image):\n",
        "  fig = plt.figure(figsize=(20, 15))\n",
        "  plt.grid(False)\n",
        "  plt.imshow(image)\n",
        "\n",
        "# metodo para dibujar un cuadro de detección sobre la imagen\n",
        "def draw_bounding_box_on_image(image,\n",
        "                               ymin,\n",
        "                               xmin,\n",
        "                               ymax,\n",
        "                               xmax,\n",
        "                               color,\n",
        "                               font,\n",
        "                               thickness=4,\n",
        "                               display_str_list=()):\n",
        "  \"\"\"Adds a bounding box to an image.\"\"\"\n",
        "  draw = ImageDraw.Draw(image)\n",
        "  im_width, im_height = image.size\n",
        "  print(im_width, im_height)\n",
        "  (left, right, top, bottom) = (xmin * im_width, xmax * im_width,\n",
        "                                ymin * im_height, ymax * im_height)\n",
        "  draw.line([(left, top), (left, bottom), (right, bottom), (right, top),\n",
        "             (left, top)],\n",
        "            width=thickness,\n",
        "            fill=color)\n",
        "  # Si la altura total de los textos agregadas a la parte superior del cuadro \n",
        "  # delimitador excede la parte superior de la imagen, apile las cadenas \n",
        "  # debajo del cuadro delimitador en lugar de arriba.\n",
        "  display_str_heights = [font.getsize(ds)[1] for ds in display_str_list]\n",
        "  # Cada display_str tiene un margen superior e inferior de 0.05x.\n",
        "  total_display_str_height = (1 + 2 * 0.05) * sum(display_str_heights)\n",
        "\n",
        "  if top > total_display_str_height:\n",
        "    text_bottom = top\n",
        "  else:\n",
        "    text_bottom = top + total_display_str_height\n",
        "  # Invierte la lista e imprime de abajo hacia arriba.\n",
        "  for display_str in display_str_list[::-1]:\n",
        "    text_width, text_height = font.getsize(display_str)\n",
        "    margin = np.ceil(0.05 * text_height)\n",
        "    draw.rectangle([(left, text_bottom - text_height - 2 * margin),\n",
        "                    (left + text_width, text_bottom)],\n",
        "                   fill=color)\n",
        "    draw.text((left + margin, text_bottom - text_height - margin),\n",
        "              display_str,\n",
        "              fill=\"black\",\n",
        "              font=font)\n",
        "    text_bottom -= text_height - 2 * margin\n",
        "\n",
        "# método para dibujar todos los cuadros de detección de sobre una imagen\n",
        "def draw_boxes(image, boxes, class_names, scores, \n",
        "               classes=[\"person\"], max_boxes=20, min_score=0.1):\n",
        "  \"\"\"Overlay labeled boxes on an image with formatted scores and label names.\"\"\"\n",
        "  colors = list(ImageColor.colormap.values())\n",
        "  font = ImageFont.load_default()\n",
        "\n",
        "  for i in range(min(boxes.shape[0], max_boxes)):\n",
        "    if scores[i] >= min_score:\n",
        "      ymin, xmin, ymax, xmax = tuple(boxes[i])\n",
        "      category = category_index[class_names[i]][\"name\"]\n",
        "      if category not in classes:\n",
        "        continue\n",
        "      display_str = \"{}: {}%\".format(category,\n",
        "                                     int(100 * scores[i]))\n",
        "      color = colors[hash(class_names[i]) % len(colors)]\n",
        "      image_pil = Image.fromarray(np.uint8(image)).convert(\"RGB\")\n",
        "      draw_bounding_box_on_image(\n",
        "          image_pil,\n",
        "          ymin,\n",
        "          xmin,\n",
        "          ymax,\n",
        "          xmax,\n",
        "          color,\n",
        "          font,\n",
        "          display_str_list=[display_str])\n",
        "      np.copyto(image, np.array(image_pil))\n",
        "  return image\n",
        "\n",
        "# cargar la imagen en un arreglo de numpy\n",
        "def load_image_into_numpy_array(path):\n",
        "  image_data = tf.io.gfile.GFile(path, 'rb').read()\n",
        "  image = Image.open(BytesIO(image_data))\n",
        "\n",
        "  (im_width, im_height) = image.size\n",
        "  return np.array(image.getdata()).reshape(\n",
        "      (1, im_height, im_width, 3)).astype(np.uint8)\n",
        "\n",
        "# cargar la imagen \n",
        "def load_img(path):\n",
        "  img = tf.io.read_file(path)\n",
        "  img = tf.image.decode_jpeg(img, channels=3)\n",
        "  return img\n",
        "\n",
        "# mostrar las detecciones realizadas en una imagen \n",
        "def show_detections(result, img):\n",
        "  image_with_boxes = draw_boxes(\n",
        "      img.numpy(), result[\"detection_boxes\"][0],\n",
        "      result[\"detection_classes\"][0].astype(int), result[\"detection_scores\"][0])\n",
        "\n",
        "  display_image(image_with_boxes)"
      ],
      "execution_count": null,
      "outputs": []
    },
    {
      "cell_type": "code",
      "metadata": {
        "id": "6zOWmWNzb8Xf"
      },
      "source": [
        "# función para detectar realizar las detecciones  \n",
        "def run_detect(detector, img_path):\n",
        "  image_np = load_image_into_numpy_array(img_path)\n",
        "  # ejecutar inferencia\n",
        "  results = detector(image_np)\n",
        "  result = {key:value.numpy() for key,value in results.items()}\n",
        "  return result    \n"
      ],
      "execution_count": null,
      "outputs": []
    },
    {
      "cell_type": "code",
      "metadata": {
        "id": "q6eL6nFewsGn"
      },
      "source": [
        "# función para detectar personas en una imagen\n",
        "def get_person_detected(image, result, resolution, threshold=0.1):\n",
        "  classes = result[\"detection_classes\"][0].astype(int) \n",
        "  scores = result[\"detection_scores\"][0]\n",
        "  boxes = result[\"detection_boxes\"][0]\n",
        "  det = {\"image\": image}\n",
        "  peo = []\n",
        "  for i in range(len(classes)):\n",
        "    if classes[i] == 1 and scores[i]>=threshold:\n",
        "      peo.append(list(boxes[i]))\n",
        "  \n",
        "  im_width = resolution[\"width\"]#1280 \n",
        "  im_height = resolution[\"height\"]#720\n",
        "  \n",
        "  for i in range(len(peo)):\n",
        "    (ymin, xmin, ymax, xmax) = peo[i]\n",
        "    peo[i]= (int(xmin * im_width),  int(ymin * im_height), int(xmax * im_width),int(ymax * im_height))\n",
        "\n",
        "  det[\"people\"]= peo\n",
        "  det[\"total\"] = len(peo)\n",
        "\n",
        "\n",
        "  return det\n",
        "\n",
        "# esta función permite cambiar el formato de las coordenadas de decteción\n",
        "def correct_hog_detections(regions):\n",
        "    if len(regions) == 0: \n",
        "      return []\n",
        "    for i in range(len(regions)):\n",
        "        (x, y, w, h) = regions[i]\n",
        "        #print(x, y, w, h)\n",
        "        regions[i] = (x, y, x+w, y+h)\n",
        "    return regions.tolist()"
      ],
      "execution_count": null,
      "outputs": []
    },
    {
      "cell_type": "markdown",
      "metadata": {
        "id": "59ihMe2YPgpL"
      },
      "source": [
        "# Tiempo de Inferencia"
      ]
    },
    {
      "cell_type": "code",
      "source": [
        "# Obbtener una muestra alearioa de 150 imágenes equivalente a unos 10 segundos \n",
        "# de metraje de una cámara a 15 fps o 5 segundos en una cámara de 30 fps  \n",
        "sgt = random.sample(ground_truth, 150)\n",
        "\n",
        "# método auxilair para mostar los tiempos de inferencia \n",
        "def time_inferences(inferences, model=\"Modelo\", print_results=False):\n",
        "  t_total = 0\n",
        "  t_min = inferences[0][\"time\"]\n",
        "  t_max = 0\n",
        "  for inference in inferences:\n",
        "    t_total += inference[\"time\"]\n",
        "    if inference[\"time\"] < t_min:\n",
        "      t_min = inference[\"time\"]\n",
        "    if inference[\"time\"] > t_max:\n",
        "      t_max = inference[\"time\"]\n",
        "  t_avg = t_total / len(inferences)\n",
        "  if print_results:\n",
        "    print(model)\n",
        "    print(\"Menor tiempo de inferencia:\", t_min)\n",
        "    print(\"Mayor tiempo de inferencia:\", t_max)\n",
        "    print(\"Tiempo total de inferencia:\", t_total)\n",
        "    print(\"Tiempo medio de inferencia:\", t_avg)    \n",
        "\n",
        "  return (t_total, t_max, t_min, t_avg)  "
      ],
      "metadata": {
        "id": "JdBDcsR075yK"
      },
      "execution_count": null,
      "outputs": []
    },
    {
      "cell_type": "markdown",
      "metadata": {
        "id": "MpBZOrpM3s9B"
      },
      "source": [
        "## Faster R-CNN"
      ]
    },
    {
      "cell_type": "code",
      "source": [
        "faster_inferences = []\n",
        "img_base_path = \"wisenet_img_dataset/\"\n",
        "# la primera vez que se realiza una inferencia el modelo tarda en cargar por lo \n",
        "# que para efectos de esta prueba se realiza un inferncia de prueba para cargar\n",
        "# el modelo\n",
        "run_detect(faster_rcnn, img_base_path+sgt[0]['image'])\n",
        "\n",
        "for d in sgt:\n",
        "  start_time = time.time()\n",
        "  result = run_detect(faster_rcnn, img_base_path+d['image'])\n",
        "  end_time = time.time()\n",
        "  det = get_person_detected(d['image'], result,d[\"resolution\"])\n",
        "  det['time'] = end_time-start_time\n",
        "  faster_inferences.append(det)\n",
        "\n",
        "tiempos = time_inferences(faster_inferences, \"Faster R-CNN\", True)\n",
        "\n"
      ],
      "metadata": {
        "colab": {
          "base_uri": "https://localhost:8080/"
        },
        "id": "7964UioqESsb",
        "outputId": "55944bac-8856-456f-cfd5-15ca6718ed3e"
      },
      "execution_count": null,
      "outputs": [
        {
          "output_type": "stream",
          "name": "stdout",
          "text": [
            "Faster R-CNN\n",
            "Menor tiempo de inferencia: 1.4106953144073486\n",
            "Mayor tiempo de inferencia: 1.5471539497375488\n",
            "Tiempo total de inferencia: 224.02353715896606\n",
            "Tiempo medio de inferencia: 1.4934902477264405\n"
          ]
        }
      ]
    },
    {
      "cell_type": "markdown",
      "metadata": {
        "id": "OiYPRMJV3ycd"
      },
      "source": [
        "## SSD"
      ]
    },
    {
      "cell_type": "code",
      "metadata": {
        "id": "ZxzkR27h4Jk1",
        "colab": {
          "base_uri": "https://localhost:8080/"
        },
        "outputId": "edaca2bb-f698-4c69-b193-4da6382f635d"
      },
      "source": [
        "ssd_inferences = []\n",
        "run_detect(ssd, img_base_path+sgt[0]['image'])\n",
        "for d in sgt:\n",
        "  start_time = time.time()\n",
        "  result = run_detect(ssd, img_base_path+d['image'])\n",
        "  end_time = time.time()\n",
        "  det = get_person_detected(d['image'], result,d[\"resolution\"])\n",
        "  det['time'] = end_time-start_time\n",
        "  ssd_inferences.append(det)\n",
        "\n",
        "tiempos = time_inferences(ssd_inferences, \"SSD\", True)"
      ],
      "execution_count": null,
      "outputs": [
        {
          "output_type": "stream",
          "name": "stdout",
          "text": [
            "SSD\n",
            "Menor tiempo de inferencia: 1.4691038131713867\n",
            "Mayor tiempo de inferencia: 1.5667359828948975\n",
            "Tiempo total de inferencia: 228.10009336471558\n",
            "Tiempo medio de inferencia: 1.520667289098104\n"
          ]
        }
      ]
    },
    {
      "cell_type": "markdown",
      "metadata": {
        "id": "e32Cc3C44ulq"
      },
      "source": [
        "## HOG"
      ]
    },
    {
      "cell_type": "code",
      "source": [
        "def run_hog_detect(img):\n",
        "  test = cv2.imread(img)\n",
        "  return hog.detectMultiScale(test)\n"
      ],
      "metadata": {
        "id": "jfpYJs4QZ5OU"
      },
      "execution_count": null,
      "outputs": []
    },
    {
      "cell_type": "code",
      "metadata": {
        "id": "d8kCmQDK4w4H",
        "colab": {
          "base_uri": "https://localhost:8080/"
        },
        "outputId": "70bdcd89-350b-4c4d-cc52-839420968271"
      },
      "source": [
        "# hog no tiene el problema de la carga\n",
        "hog_inferences = []\n",
        "for d in sgt:\n",
        "  start_time = time.time()\n",
        "  (regions, _) = run_hog_detect(img_base_path+d['image'])\n",
        "  end_time = time.time()\n",
        "  regs = correct_hog_detections(regions)\n",
        "  hog_inferences.append({\"image\":d['image'], \"people\": regs, \"total\": len(regs), \"time\":end_time-start_time})\n",
        "\n",
        "\n",
        "tiempos = time_inferences(hog_inferences, \"HOG\", True)"
      ],
      "execution_count": null,
      "outputs": [
        {
          "output_type": "stream",
          "name": "stdout",
          "text": [
            "HOG\n",
            "Menor tiempo de inferencia: 0.6956524848937988\n",
            "Mayor tiempo de inferencia: 0.7886755466461182\n",
            "Tiempo total de inferencia: 109.66659426689148\n",
            "Tiempo medio de inferencia: 0.7311106284459432\n"
          ]
        }
      ]
    },
    {
      "cell_type": "markdown",
      "metadata": {
        "id": "6OgBRoCj4xtL"
      },
      "source": [
        "## YOLO"
      ]
    },
    {
      "cell_type": "code",
      "metadata": {
        "id": "E9xQhAzt41vH",
        "colab": {
          "base_uri": "https://localhost:8080/"
        },
        "outputId": "f8715b92-d116-4033-b41c-4762b3692a13"
      },
      "source": [
        "yolo_inferences = []\n",
        "results = yolo([img_base_path+sgt[0]['image']])\n",
        "\n",
        "for d in sgt:\n",
        "  start_time = time.time()\n",
        "  results = yolo([img_base_path+d['image']])\n",
        "  end_time = time.time()\n",
        "  people = []\n",
        "  cuadros = results.pandas().xyxy[0].to_dict(orient=\"records\")\n",
        "  for c in cuadros:\n",
        "    people.append([int(c['xmin']), int(c['ymin']), int(c['xmax']), int(c['ymax'])])\n",
        "  yolo_inferences.append({\"image\":d['image'], \"people\":people, \"total\":len(people),\"time\":end_time-start_time})\n",
        "\n",
        "tiempos = time_inferences(yolo_inferences, \"YOLO\", True)"
      ],
      "execution_count": null,
      "outputs": [
        {
          "output_type": "stream",
          "name": "stdout",
          "text": [
            "YOLO\n",
            "Menor tiempo de inferencia: 0.02464461326599121\n",
            "Mayor tiempo de inferencia: 0.03347158432006836\n",
            "Tiempo total de inferencia: 4.208057403564453\n",
            "Tiempo medio de inferencia: 0.028053716023763022\n"
          ]
        }
      ]
    },
    {
      "cell_type": "code",
      "source": [
        "times = []\n",
        "for i in range(len(faster_inferences)):\n",
        "  times.append({'Faster': faster_inferences[i]['time'], \n",
        "        'SSD': ssd_inferences[i]['time'], \n",
        "        'HOG': hog_inferences[i]['time'], \n",
        "        'YOLO': yolo_inferences[i]['time']})"
      ],
      "metadata": {
        "id": "ps2eb5n6X9RU"
      },
      "execution_count": null,
      "outputs": []
    },
    {
      "cell_type": "code",
      "source": [
        "def save_inferences(file, inferences):\n",
        "  with open(file, 'w') as outfile:\n",
        "    json.dump(json.dumps(inferences), outfile)\n",
        "\n",
        "save_inferences('faster_inferences.json', faster_inferences)\n",
        "save_inferences('ssd_inferences.json', ssd_inferences)\n",
        "save_inferences('hog_inferences.json', hog_inferences)\n",
        "save_inferences('yolo_inferences.json', yolo_inferences)\n",
        "\n",
        "save_inferences('ground_truth.json', sgt)"
      ],
      "metadata": {
        "id": "zvpDCpyYnc0Y"
      },
      "execution_count": null,
      "outputs": []
    },
    {
      "cell_type": "markdown",
      "metadata": {
        "id": "eRv7pyYk6fUB"
      },
      "source": [
        "# Precisión de los modelos"
      ]
    },
    {
      "cell_type": "code",
      "metadata": {
        "id": "ePJK-P0foxQw"
      },
      "source": [
        "def intersection_over_union(boxA, boxB):\n",
        "  # tomado de https://www.pyimagesearch.com/2016/11/07/intersection-over-union-iou-for-object-detection/\n",
        "\txA = max(boxA[0], boxB[0])\n",
        "\tyA = max(boxA[1], boxB[1])\n",
        "\txB = min(boxA[2], boxB[2])\n",
        "\tyB = min(boxA[3], boxB[3])\n",
        "\t# calcula el area de interseccion\n",
        "\tinterArea = max(0, xB - xA + 1) * max(0, yB - yA + 1)\n",
        "\t# calcula el area de la prediccion y ground-truth\n",
        "\tboxAArea = (boxA[2] - boxA[0] + 1) * (boxA[3] - boxA[1] + 1)\n",
        "\tboxBArea = (boxB[2] - boxB[0] + 1) * (boxB[3] - boxB[1] + 1)\n",
        "\t# area and dividing it by the sum of prediction + ground-truth\n",
        "\t# areas - the interesection area\n",
        "\tiou = interArea / float(boxAArea + boxBArea - interArea)\n",
        "\t# devueve el valor de la  IOU (intersection over union)\n",
        "\treturn iou"
      ],
      "execution_count": null,
      "outputs": []
    },
    {
      "cell_type": "code",
      "source": [
        "def iou_per_inference(pr, gt):\n",
        "  # en esta primera parte se calcula el iou de todas las cajas \n",
        "  # detectadas y en resultado se guarda junto con \n",
        "  # el índice de la caja en el ground truth\n",
        "  # en este punto solo se verifica que exista un valor de iou mayor a 0\n",
        "  result =[]\n",
        "  for i in range(len(pr)):\n",
        "    box1 = pr[i]\n",
        "    for j in range(len(gt)):\n",
        "      box2 = gt[j]\n",
        "      iou = intersection_over_union(box1, box2)\n",
        "      if iou > 0 :\n",
        "        result.append((j, iou, i))\n",
        "\n",
        "  # en esta segunda parte se verifican los posibles traslapes ya que esto \n",
        "  # puede ocasionar que se realice una doble detección es decir que una misma\n",
        "  # caja en el ground truth haya sido detectada dos veces si ese es el caso\n",
        "  # por simplicidad se tomará el que tenga el iou mas alto y a los demas \n",
        "  # se les asignara 0\n",
        "  best_matches = []\n",
        "  for i in range(len(result)):\n",
        "    f1 = result[i]\n",
        "    max_index_iou = i\n",
        "    max_iou = f1[1]\n",
        "    for j in range(len(result)):\n",
        "      f2 = result[j]\n",
        "      if f1[0] == f2[0]:\n",
        "        if f2[1] > max_iou:\n",
        "          max_index_iou = j\n",
        "          max_iou = f2[1]\n",
        "    if max_index_iou not in best_matches:\n",
        "      best_matches.append(max_index_iou) \n",
        "  #print(len(result), len(pr))\n",
        "\n",
        "  # esta sección es donde se verifica solo las mejores coincidencias \n",
        "  ious = [0 for i in range(len(pr))]\n",
        "  for i in range(len(result)):\n",
        "    if i in best_matches:\n",
        "      index_gt = result[i][2]\n",
        "      #print(index_gt)\n",
        "      ious[index_gt] = result[i][1] \n",
        "\n",
        "  return ious\n",
        "      \n",
        "\n",
        "\n",
        "def iou_for_all_inferences(pr, gt):\n",
        "  # en cada inferencia puede haber más de una detección\n",
        "  # por cada detección se calcula el iou\n",
        "  results = []\n",
        "  for i in range(len(pr)):\n",
        "    r = pr[i]\n",
        "    img = {\"image\": r['image']}\n",
        "    img[\"boxes_iou\"] = iou_per_inference(r['people'], gt[i]['people'])\n",
        "    img[\"expected\"] = len(gt[i]['people'])\n",
        "    img[\"detected\"] = len(r['people'])\n",
        "    results.append(img)\n",
        "  return results "
      ],
      "metadata": {
        "id": "rGFc3SWDSk7S"
      },
      "execution_count": null,
      "outputs": []
    },
    {
      "cell_type": "code",
      "source": [
        "def calculate_TF_PN_Img(iou, threshold=0.3):\n",
        "  TP = 0\n",
        "  FP = 0\n",
        "  TD = iou['detected']\n",
        "  GT = iou['expected']\n",
        "  deteciones = []\n",
        "  for box in iou['boxes_iou']:\n",
        "    if box >= threshold:\n",
        "      TP += 1\n",
        "    else:\n",
        "      FP += 1  \n",
        "  return {\"TP\": TP, \"FP\": FP, \"TD\": TD, \"GT\": GT}"
      ],
      "metadata": {
        "id": "p_7BLq7IwTuq"
      },
      "execution_count": null,
      "outputs": []
    },
    {
      "cell_type": "code",
      "metadata": {
        "id": "8eoCecNGiTvF"
      },
      "source": [
        "def calculate_TF_PN(ious, threshold=0.3):\n",
        "  TP = 0\n",
        "  FP = 0\n",
        "  TD = 0 \n",
        "  GT = 0\n",
        "  for iou in ious:\n",
        "    TD += iou['detected']\n",
        "    GT += iou['expected']\n",
        "    for box in iou['boxes_iou']:\n",
        "      if box >= threshold:\n",
        "        TP += 1\n",
        "      else:\n",
        "        FP += 1\n",
        "  return {\"TP\": TP, \"FP\": FP, \"FN\": GT-TP, \"TD\": TD, \"GT\": GT}"
      ],
      "execution_count": null,
      "outputs": []
    },
    {
      "cell_type": "code",
      "source": [
        "def calculate_precision(res):\n",
        "  return res['TP']/res['TD']\n",
        "\n",
        "def calculate_recall(res):\n",
        "  return res['TP']/res['GT']\n",
        "\n",
        "def calculate_P_R(ious):\n",
        "  tf_pn = calculate_TF_PN(ious)\n",
        "  return (calculate_precision(tf_pn),calculate_recall(tf_pn))"
      ],
      "metadata": {
        "id": "rw1S3VLDNv4q"
      },
      "execution_count": null,
      "outputs": []
    },
    {
      "cell_type": "code",
      "metadata": {
        "id": "OzPBMLtG7-m9"
      },
      "source": [
        "faster_ious = iou_for_all_inferences(faster_inferences, sgt)\n",
        "ssd_ious = iou_for_all_inferences(ssd_inferences, sgt)\n",
        "hog_ious = iou_for_all_inferences(hog_inferences, sgt)\n",
        "yolo_ious = iou_for_all_inferences(yolo_inferences, sgt)\n"
      ],
      "execution_count": null,
      "outputs": []
    },
    {
      "cell_type": "code",
      "source": [
        "inferencias = []\n",
        "for i in range(len(faster_ious)):\n",
        "  inferencias.append({'GT': faster_ious[i]['expected'], \n",
        "                  'Faster': faster_ious[i]['detected'], \n",
        "        'SSD': ssd_ious[i]['detected'], \n",
        "        'HOG': hog_ious[i]['detected'], \n",
        "        'YOLO': yolo_ious[i]['detected']})\n"
      ],
      "metadata": {
        "id": "88c77s-57iKk"
      },
      "execution_count": null,
      "outputs": []
    },
    {
      "cell_type": "code",
      "metadata": {
        "colab": {
          "base_uri": "https://localhost:8080/"
        },
        "id": "wVXR1AQaS1vu",
        "outputId": "55c4cc54-6456-41dd-d86d-42d8690617e2"
      },
      "source": [
        "print(\"Faster\", calculate_TF_PN(faster_ious))\n",
        "print(\"SSD\", calculate_TF_PN(ssd_ious))\n",
        "print(\"HOG\", calculate_TF_PN(hog_ious))\n",
        "print(\"YOLO\", calculate_TF_PN(yolo_ious))"
      ],
      "execution_count": null,
      "outputs": [
        {
          "output_type": "stream",
          "name": "stdout",
          "text": [
            "Faster {'TP': 174, 'FP': 83, 'FN': 36, 'TD': 257, 'GT': 210}\n",
            "SSD {'TP': 201, 'FP': 311, 'FN': 9, 'TD': 512, 'GT': 210}\n",
            "HOG {'TP': 63, 'FP': 249, 'FN': 147, 'TD': 312, 'GT': 210}\n",
            "YOLO {'TP': 169, 'FP': 17, 'FN': 41, 'TD': 186, 'GT': 210}\n"
          ]
        }
      ]
    },
    {
      "cell_type": "code",
      "source": [
        "print(\"Faster Precision(%f) Recall(%f)\" % calculate_P_R(faster_ious))\n",
        "print(\"SSD Precision(%f) Recall(%f)\" % calculate_P_R(ssd_ious))\n",
        "print(\"HOG Precision(%f) Recall(%f)\" % calculate_P_R(hog_ious))\n",
        "print(\"YOLO Precision(%f) Recall(%f)\" % calculate_P_R(yolo_ious))"
      ],
      "metadata": {
        "colab": {
          "base_uri": "https://localhost:8080/"
        },
        "id": "cHBq-dYqNqm8",
        "outputId": "16144f3b-5562-4e57-e092-d56fa54ed5e1"
      },
      "execution_count": null,
      "outputs": [
        {
          "output_type": "stream",
          "name": "stdout",
          "text": [
            "Faster Precision(0.677043) Recall(0.828571)\n",
            "SSD Precision(0.392578) Recall(0.957143)\n",
            "HOG Precision(0.201923) Recall(0.300000)\n",
            "YOLO Precision(0.908602) Recall(0.804762)\n"
          ]
        }
      ]
    },
    {
      "cell_type": "markdown",
      "source": [
        "# Estimación de errores"
      ],
      "metadata": {
        "id": "R0O6-uSHOsJ4"
      }
    },
    {
      "cell_type": "code",
      "source": [
        "import sklearn.metrics as metrics "
      ],
      "metadata": {
        "id": "-apXchDLRVSV"
      },
      "execution_count": null,
      "outputs": []
    },
    {
      "cell_type": "code",
      "source": [
        "y_true = [x['total']for x in sgt]\n",
        "faster_detected = [x['detected'] for x in faster_ious]\n",
        "ssd_detected = [x['detected'] for x in ssd_ious]\n",
        "hog_detected = [x['detected'] for x in hog_ious]\n",
        "yolo_detected = [x['detected'] for x in yolo_ious]\n",
        "\n",
        "\n",
        "print(\"FASTER R-CNN\")\n",
        "print(\"MSE:\", metrics.mean_squared_error(y_true, faster_detected))\n",
        "print(\"RMSE:\", metrics.mean_squared_error(y_true, faster_detected, squared=False))\n",
        "print(\"MAE:\", metrics.mean_absolute_error(y_true, faster_detected))\n",
        "\n",
        "print(\"SSD\")\n",
        "print(\"MSE:\", metrics.mean_squared_error(y_true, ssd_detected))\n",
        "print(\"RMSE:\", metrics.mean_squared_error(y_true, ssd_detected, squared=False))\n",
        "print(\"MAE:\", metrics.mean_absolute_error(y_true, ssd_detected))\n",
        "\n",
        "print(\"HOG\")\n",
        "print(\"MSE:\", metrics.mean_squared_error(y_true, hog_detected))\n",
        "print(\"RMSE:\", metrics.mean_squared_error(y_true, hog_detected, squared=False))\n",
        "print(\"MAE:\", metrics.mean_absolute_error(y_true, hog_detected))\n",
        "\n",
        "\n",
        "print(\"YOLO\")\n",
        "print(\"MSE:\", metrics.mean_squared_error(y_true, yolo_detected))\n",
        "print(\"RMSE:\", metrics.mean_squared_error(y_true, yolo_detected, squared=False))\n",
        "print(\"MAE:\", metrics.mean_absolute_error(y_true, yolo_detected))\n"
      ],
      "metadata": {
        "colab": {
          "base_uri": "https://localhost:8080/"
        },
        "id": "lNNbl902OrNd",
        "outputId": "c591b418-8050-445d-d15e-3334c78bef38"
      },
      "execution_count": null,
      "outputs": [
        {
          "output_type": "stream",
          "name": "stdout",
          "text": [
            "FASTER R-CNN\n",
            "MSE: 1.0866666666666667\n",
            "RMSE: 1.0424330514074593\n",
            "MAE: 0.6333333333333333\n",
            "SSD\n",
            "MSE: 7.653333333333333\n",
            "RMSE: 2.7664658561661906\n",
            "MAE: 2.04\n",
            "HOG\n",
            "MSE: 2.32\n",
            "RMSE: 1.5231546211727816\n",
            "MAE: 1.1866666666666668\n",
            "YOLO\n",
            "MSE: 0.22666666666666666\n",
            "RMSE: 0.4760952285695233\n",
            "MAE: 0.21333333333333335\n"
          ]
        }
      ]
    },
    {
      "cell_type": "markdown",
      "source": [
        "# Analisis de los resultados"
      ],
      "metadata": {
        "id": "vB6TQeOD-pcO"
      }
    },
    {
      "cell_type": "markdown",
      "source": [
        "### Tiempos"
      ],
      "metadata": {
        "id": "mVwomaySZI5r"
      }
    },
    {
      "cell_type": "code",
      "source": [
        "%matplotlib inline\n",
        "times_df = pd.DataFrame.from_records(times)\n",
        "plt.plot(times_df)\n",
        "plt.title(\"Tiempo total de inferencia\")\n",
        "plt.legend(list(times_df.columns.values), bbox_to_anchor=(1.05, 1), loc=2, borderaxespad=0.)\n",
        "plt.show()"
      ],
      "metadata": {
        "colab": {
          "base_uri": "https://localhost:8080/",
          "height": 281
        },
        "id": "sbxLhNSMXR77",
        "outputId": "9a6e5bc5-d2c6-45ff-cf3e-6abf03fd74e7"
      },
      "execution_count": null,
      "outputs": [
        {
          "output_type": "display_data",
          "data": {
            "image/png": "[encoded data removed]",
            "text/plain": [
              "<Figure size 432x288 with 1 Axes>"
            ]
          },
          "metadata": {
            "needs_background": "light"
          }
        }
      ]
    },
    {
      "cell_type": "markdown",
      "source": [
        "### Precisión"
      ],
      "metadata": {
        "id": "m_haoHesZVn9"
      }
    },
    {
      "cell_type": "code",
      "source": [
        "infer_df = pd.DataFrame.from_records(inferencias)"
      ],
      "metadata": {
        "id": "M5H2FhguYeoz"
      },
      "execution_count": null,
      "outputs": []
    },
    {
      "cell_type": "code",
      "source": [
        "infer_df[['GT', 'Faster']].plot(figsize=(7,3), title=\"Enferencias de Faster R-CNN\")\n",
        "infer_df[['GT', 'SSD']].plot(figsize=(7,3), title=\"Enferencias de SSD\")\n",
        "infer_df[['GT', 'HOG']].plot(figsize=(7,3), title=\"Enferencias de HOG\")\n",
        "infer_df[['GT', 'YOLO']].plot(figsize=(7,3), title=\"Enferencias de YOLO\")"
      ],
      "metadata": {
        "colab": {
          "base_uri": "https://localhost:8080/",
          "height": 874
        },
        "id": "6U9846IeYjZw",
        "outputId": "11deec26-5420-4c75-cef1-b6352f541d69"
      },
      "execution_count": null,
      "outputs": [
        {
          "output_type": "execute_result",
          "data": {
            "text/plain": [
              "<matplotlib.axes._subplots.AxesSubplot at 0x7fafd08b1e10>"
            ]
          },
          "metadata": {},
          "execution_count": 107
        },
        {
          "output_type": "display_data",
          "data": {
            "image/png": "[encoded data removed]",
            "text/plain": [
              "<Figure size 504x216 with 1 Axes>"
            ]
          },
          "metadata": {
            "needs_background": "light"
          }
        },
        {
          "output_type": "display_data",
          "data": {
            "image/png": "[encoded data removed]",
            "text/plain": [
              "<Figure size 504x216 with 1 Axes>"
            ]
          },
          "metadata": {
            "needs_background": "light"
          }
        },
        {
          "output_type": "display_data",
          "data": {
            "image/png": "[encoded data removed]",
            "text/plain": [
              "<Figure size 504x216 with 1 Axes>"
            ]
          },
          "metadata": {
            "needs_background": "light"
          }
        },
        {
          "output_type": "display_data",
          "data": {
            "image/png": "[encoded data removed]",
            "text/plain": [
              "<Figure size 504x216 with 1 Axes>"
            ]
          },
          "metadata": {
            "needs_background": "light"
          }
        }
      ]
    },
    {
      "cell_type": "code",
      "source": [
        "infer_df.plot(figsize=(8,4), title=\"Enferencias de los modelos\")"
      ],
      "metadata": {
        "colab": {
          "base_uri": "https://localhost:8080/",
          "height": 298
        },
        "id": "fhMoulTQY9GV",
        "outputId": "7d8c8844-c54b-4215-9033-d1504730451f"
      },
      "execution_count": null,
      "outputs": [
        {
          "output_type": "execute_result",
          "data": {
            "text/plain": [
              "<matplotlib.axes._subplots.AxesSubplot at 0x7fafd08b9a50>"
            ]
          },
          "metadata": {},
          "execution_count": 108
        },
        {
          "output_type": "display_data",
          "data": {
            "image/png": "[encoded data removed]",
            "text/plain": [
              "<Figure size 576x288 with 1 Axes>"
            ]
          },
          "metadata": {
            "needs_background": "light"
          }
        }
      ]
    },
    {
      "cell_type": "markdown",
      "source": [
        "### Errores"
      ],
      "metadata": {
        "id": "LFNf5RaIZQct"
      }
    },
    {
      "cell_type": "code",
      "source": [
        "abs_error = pd.DataFrame.from_records(inferencias)\n",
        "abs_error['Faster'] = np.abs(abs_error[\"Faster\"] - abs_error[\"GT\"])\n",
        "abs_error['SSD'] = np.abs(abs_error[\"SSD\"] - abs_error[\"GT\"])\n",
        "abs_error['HOG'] = np.abs(abs_error[\"HOG\"] - abs_error[\"GT\"])\n",
        "abs_error['YOLO'] = np.abs(abs_error[\"YOLO\"] - abs_error[\"GT\"])\n",
        "\n",
        "\n",
        "plt.title(\"Error Absoluto\")\n",
        "abs_error[['Faster', 'SSD', 'HOG', 'YOLO']].boxplot()"
      ],
      "metadata": {
        "colab": {
          "base_uri": "https://localhost:8080/",
          "height": 298
        },
        "id": "L03bWaFPZAkQ",
        "outputId": "3f0ee4fd-73e0-498b-e83a-e6047e539666"
      },
      "execution_count": null,
      "outputs": [
        {
          "output_type": "execute_result",
          "data": {
            "text/plain": [
              "<matplotlib.axes._subplots.AxesSubplot at 0x7fafd0699bd0>"
            ]
          },
          "metadata": {},
          "execution_count": 109
        },
        {
          "output_type": "display_data",
          "data": {
            "image/png": "[encoded data removed]",
            "text/plain": [
              "<Figure size 432x288 with 1 Axes>"
            ]
          },
          "metadata": {
            "needs_background": "light"
          }
        }
      ]
    },
    {
      "cell_type": "code",
      "source": [
        "sqr_error = pd.DataFrame.from_records(inferencias)\n",
        "sqr_error['Faster'] = (sqr_error[\"Faster\"] - sqr_error[\"GT\"])**2\n",
        "sqr_error['SSD'] = (sqr_error[\"SSD\"] - sqr_error[\"GT\"])**2\n",
        "sqr_error['HOG'] = (sqr_error[\"HOG\"] - sqr_error[\"GT\"])**2\n",
        "sqr_error['YOLO'] = (sqr_error[\"YOLO\"] - sqr_error[\"GT\"])**2\n",
        "\n",
        "\n",
        "plt.title(\"Error Cuadrático\")\n",
        "sqr_error[['Faster', 'SSD', 'HOG', 'YOLO']].boxplot()"
      ],
      "metadata": {
        "colab": {
          "base_uri": "https://localhost:8080/",
          "height": 298
        },
        "id": "yn-6ZVMlZnGP",
        "outputId": "47698c0b-03a2-4d96-c1ea-8aabb30f2a3e"
      },
      "execution_count": null,
      "outputs": [
        {
          "output_type": "execute_result",
          "data": {
            "text/plain": [
              "<matplotlib.axes._subplots.AxesSubplot at 0x7fafd080afd0>"
            ]
          },
          "metadata": {},
          "execution_count": 110
        },
        {
          "output_type": "display_data",
          "data": {
            "image/png": "[encoded data removed]",
            "text/plain": [
              "<Figure size 432x288 with 1 Axes>"
            ]
          },
          "metadata": {
            "needs_background": "light"
          }
        }
      ]
    },
    {
      "cell_type": "code",
      "source": [
        "root_sqr_error = pd.DataFrame.from_records(inferencias)\n",
        "root_sqr_error['Faster'] = np.sqrt((root_sqr_error[\"Faster\"] - root_sqr_error[\"GT\"])**2)\n",
        "root_sqr_error['SSD'] = np.sqrt((root_sqr_error[\"SSD\"] - root_sqr_error[\"GT\"])**2)\n",
        "root_sqr_error['HOG'] = np.sqrt((root_sqr_error[\"HOG\"] - root_sqr_error[\"GT\"])**2)\n",
        "root_sqr_error['YOLO'] = np.sqrt((root_sqr_error[\"YOLO\"] - root_sqr_error[\"GT\"])**2)\n",
        "\n",
        "\n",
        "plt.title(\"Raíz del Error Cuadrático\")\n",
        "root_sqr_error[['Faster', 'SSD', 'HOG', 'YOLO']].boxplot()"
      ],
      "metadata": {
        "colab": {
          "base_uri": "https://localhost:8080/",
          "height": 298
        },
        "id": "ebFXnLFNZr-1",
        "outputId": "8f293e78-399e-4d7c-816c-2f9d259f3803"
      },
      "execution_count": null,
      "outputs": [
        {
          "output_type": "execute_result",
          "data": {
            "text/plain": [
              "<matplotlib.axes._subplots.AxesSubplot at 0x7fafd04f8490>"
            ]
          },
          "metadata": {},
          "execution_count": 111
        },
        {
          "output_type": "display_data",
          "data": {
            "image/png": "[encoded data removed]",
            "text/plain": [
              "<Figure size 432x288 with 1 Axes>"
            ]
          },
          "metadata": {
            "needs_background": "light"
          }
        }
      ]
    }
  ]
}